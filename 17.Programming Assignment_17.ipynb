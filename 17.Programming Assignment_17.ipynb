{
 "cells": [
  {
   "cell_type": "markdown",
   "id": "8dc3c481",
   "metadata": {},
   "source": [
    "# 17.Programming Assignment_17"
   ]
  },
  {
   "cell_type": "markdown",
   "id": "480a7f4f",
   "metadata": {},
   "source": [
    "### Q1.Create a function that takes three arguments a, b, c and returns the sum of the numbers that are evenly divided by c from the range a, b inclusive ?\n",
    "\n",
    "\n",
    "    Examples:\n",
    "    evenly_divisible(1, 10, 20) ➞ 0 # No number between 1 and 10 can be evenly divided by 20. evenly_divisible(1, 10, 2) ➞ 30 # 2 + 4 + 6 + 8 + 10 = 30 evenly_divisible(1, 10, 3) ➞ 18 # 3 + 6 + 9 = 18"
   ]
  },
  {
   "cell_type": "code",
   "execution_count": 1,
   "id": "29fa8605",
   "metadata": {},
   "outputs": [
    {
     "name": "stdout",
     "output_type": "stream",
     "text": [
      "(1, 10, 20) --> 0\n",
      "(1, 10, 2) --> 30\n",
      "(1, 10, 3) --> 18\n"
     ]
    }
   ],
   "source": [
    "def evenly_divisible(a,b,c):\n",
    "    divlist = []\n",
    "    for num in range(a,b+1):\n",
    "        if num%c == 0:\n",
    "            divlist.append(num)\n",
    "    print(f'{a,b,c} --> {sum(divlist)}')\n",
    "\n",
    "evenly_divisible(1,10,20)\n",
    "evenly_divisible(1,10,2)\n",
    "evenly_divisible(1,10,3)"
   ]
  },
  {
   "cell_type": "markdown",
   "id": "286f6c31",
   "metadata": {},
   "source": [
    "### Q2.Create a function that returns True if a given inequality expression is correct and False otherwise ?\n",
    "\n",
    "\n",
    "    Examples:\n",
    "    correct_signs(\"3 < 7 < 11\") ➞ True\n",
    "    correct_signs(\"13 > 44 > 33 > 1\") ➞ False\n",
    "    correct_signs(\"1 < 2 < 6 < 9 > 3\") ➞ True"
   ]
  },
  {
   "cell_type": "code",
   "execution_count": 4,
   "id": "3137646e",
   "metadata": {},
   "outputs": [
    {
     "name": "stdout",
     "output_type": "stream",
     "text": [
      "enter the number :3 < 7 < 11\n",
      "3 < 7 < 11 --> True\n",
      "enter the number :13 > 44 > 33 > 1\n",
      "13 > 44 > 33 > 1 --> False\n",
      "enter the number :1 < 2 < 6 < 9 > 3\n",
      "1 < 2 < 6 < 9 > 3 --> True\n"
     ]
    }
   ],
   "source": [
    "def correct_signs():\n",
    "    string = input('enter the number :')\n",
    "    output = eval(string)\n",
    "    print(f'{string} --> {output}')\n",
    "    \n",
    "for i in range(3):\n",
    "    correct_signs()\n",
    "    "
   ]
  },
  {
   "cell_type": "markdown",
   "id": "a0327ab1",
   "metadata": {},
   "source": [
    "### Q3.Create a function that replaces all the vowels in a string with a specified character ?\n",
    "\n",
    "\n",
    "    Examples:\n",
    "    replace_vowels(\"the aardvark\", \"#\") ➞ \"th# ##rdv#rk\"\n",
    "    replace_vowels(\"minnie mouse\", \"?\") ➞ \"m?nn?? m??s?\"\n",
    "    replace_vowels(\"shakespeare\", \"*\") ➞ \"shksp**r\""
   ]
  },
  {
   "cell_type": "code",
   "execution_count": 7,
   "id": "78b7a935",
   "metadata": {},
   "outputs": [
    {
     "name": "stdout",
     "output_type": "stream",
     "text": [
      "enter string the aardvark\n",
      "replace char #\n",
      "th# ##rdv#rk # --> th# ##rdv#rk\n",
      "enter string minnie mouse\n",
      "replace char ?\n",
      "m?nn?? m??s? ? --> m?nn?? m??s?\n",
      "enter string shakespeare\n",
      "replace char *\n",
      "sh*k*sp**r* * --> sh*k*sp**r*\n"
     ]
    }
   ],
   "source": [
    "def replace_vowels():\n",
    "    vowels = \"aeiou\"\n",
    "    string = input(\"enter string \")\n",
    "    char = input(\"replace char \")\n",
    "    for ele in string:\n",
    "        if ele in vowels:\n",
    "            string = string.replace(ele,char)\n",
    "    print(f'{string} {char} --> {string}')\n",
    "\n",
    "for i in range(3):\n",
    "    replace_vowels()"
   ]
  },
  {
   "cell_type": "markdown",
   "id": "53f5efea",
   "metadata": {},
   "source": [
    "### Q4.Write a function that calculates the factorial of a number recursively ?\n",
    "\n",
    "\n",
    "    Examples:\n",
    "    factorial(5) ➞ 120\n",
    "    factorial(3) ➞ 6\n",
    "    factorial(1) ➞ 1\n",
    "    factorial(0) ➞ 1"
   ]
  },
  {
   "cell_type": "code",
   "execution_count": 8,
   "id": "34e92d93",
   "metadata": {},
   "outputs": [
    {
     "name": "stdout",
     "output_type": "stream",
     "text": [
      "factorial(5) ➞ 120\n",
      "factorial(3) ➞ 6\n",
      "factorial(1) ➞ 1\n",
      "factorial(0) ➞ 1\n"
     ]
    }
   ],
   "source": [
    "def factorial(n):\n",
    "    if n==0:\n",
    "        return 1\n",
    "    return n* factorial(n-1)\n",
    "print(f'factorial(5) ➞ {factorial(5)}')\n",
    "print(f'factorial(3) ➞ {factorial(3)}')\n",
    "print(f'factorial(1) ➞ {factorial(1)}')\n",
    "print(f'factorial(0) ➞ {factorial(0)}')"
   ]
  },
  {
   "cell_type": "markdown",
   "id": "585a3561",
   "metadata": {},
   "source": [
    "### Q5.Hamming distance is the number of characters that differ between two strings ?\n",
    "\n",
    "\n",
    "    To illustrate:\n",
    "    String1: \"abcbba\"\n",
    "    String2: \"abcbda\"\n",
    "    Hamming Distance: 1 - \"b\" vs. \"d\" is the only difference.\n",
    "    Create a function that computes the hamming distance between two strings.\n",
    "    Examples:\n",
    "    hamming_distance(\"abcde\", \"bcdef\") ➞ 5\n",
    "    hamming_distance(\"abcde\", \"abcde\") ➞ 0\n",
    "    hamming_distance(\"strong\", \"strung\") ➞ 1"
   ]
  },
  {
   "cell_type": "code",
   "execution_count": 9,
   "id": "dc00e455",
   "metadata": {},
   "outputs": [
    {
     "name": "stdout",
     "output_type": "stream",
     "text": [
      "Enter the String_1: abcde\n",
      "Enter the String_2: bcdef\n",
      "Hamning Distance b/w abcde and bcdef ➞ 5\n",
      "Enter the String_1: abcde\n",
      "Enter the String_2: abcde\n",
      "Hamning Distance b/w abcde and abcde ➞ 0\n",
      "Enter the String_1: strong\n",
      "Enter the String_2: strong\n",
      "Hamning Distance b/w strong and strong ➞ 0\n"
     ]
    }
   ],
   "source": [
    "def genHamDistance():\n",
    "    in_string_1 = input('Enter the String_1: ')\n",
    "    in_string_2 = input('Enter the String_2: ')\n",
    "    if len(in_string_1) == len(in_string_2):\n",
    "        count = 0\n",
    "        for i in range(len(in_string_1)):\n",
    "            if in_string_1[i] != in_string_2[i]:\n",
    "                count = count+1\n",
    "        print(f'Hamning Distance b/w {in_string_1} and {in_string_2} ➞ {count}')\n",
    "    else:\n",
    "        print('Both Strings Must be of Same Length')\n",
    "\n",
    "for x in range(3):\n",
    "    genHamDistance()"
   ]
  },
  {
   "cell_type": "code",
   "execution_count": null,
   "id": "b3592c2f",
   "metadata": {},
   "outputs": [],
   "source": []
  }
 ],
 "metadata": {
  "kernelspec": {
   "display_name": "Python 3 (ipykernel)",
   "language": "python",
   "name": "python3"
  },
  "language_info": {
   "codemirror_mode": {
    "name": "ipython",
    "version": 3
   },
   "file_extension": ".py",
   "mimetype": "text/x-python",
   "name": "python",
   "nbconvert_exporter": "python",
   "pygments_lexer": "ipython3",
   "version": "3.10.2"
  }
 },
 "nbformat": 4,
 "nbformat_minor": 5
}
