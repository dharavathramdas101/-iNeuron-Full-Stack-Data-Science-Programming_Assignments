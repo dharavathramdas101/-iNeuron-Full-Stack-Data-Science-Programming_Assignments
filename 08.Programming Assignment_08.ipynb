{
 "cells": [
  {
   "cell_type": "markdown",
   "id": "f33afb97",
   "metadata": {},
   "source": [
    "# Programming Assignment_08"
   ]
  },
  {
   "cell_type": "markdown",
   "id": "23682371",
   "metadata": {},
   "source": [
    "Q 1. Write a Python Program to Add two Matrices ?"
   ]
  },
  {
   "cell_type": "code",
   "execution_count": 47,
   "id": "429e7dd4",
   "metadata": {},
   "outputs": [
    {
     "data": {
      "text/plain": [
       "array([[ 1.   ,  3.375,  5.75 ],\n",
       "       [ 8.125, 10.5  , 12.875],\n",
       "       [15.25 , 17.625, 20.   ]])"
      ]
     },
     "execution_count": 47,
     "metadata": {},
     "output_type": "execute_result"
    }
   ],
   "source": [
    "#Ans:-\n",
    "import numpy as np\n",
    "arr = np.linspace(1,20,num=9)\n",
    "arr1 = arr.reshape(3,3)\n",
    "arr1"
   ]
  },
  {
   "cell_type": "code",
   "execution_count": 46,
   "id": "deb9523e",
   "metadata": {},
   "outputs": [
    {
     "data": {
      "text/plain": [
       "array([[ 2.   ,  4.375,  6.75 ],\n",
       "       [ 9.125, 11.5  , 13.875],\n",
       "       [16.25 , 18.625, 21.   ]])"
      ]
     },
     "execution_count": 46,
     "metadata": {},
     "output_type": "execute_result"
    }
   ],
   "source": [
    "arr2 = arr1+1\n",
    "arr2"
   ]
  },
  {
   "cell_type": "code",
   "execution_count": 13,
   "id": "9f9be55a",
   "metadata": {},
   "outputs": [
    {
     "data": {
      "text/plain": [
       "array([[ 3.  ,  7.75, 12.5 ],\n",
       "       [17.25, 22.  , 26.75],\n",
       "       [31.5 , 36.25, 41.  ]])"
      ]
     },
     "execution_count": 13,
     "metadata": {},
     "output_type": "execute_result"
    }
   ],
   "source": [
    "arr1 + arr2"
   ]
  },
  {
   "cell_type": "markdown",
   "id": "73149eb4",
   "metadata": {},
   "source": [
    "Q 2. Write a Python Program to Multiply two Matrices ?"
   ]
  },
  {
   "cell_type": "code",
   "execution_count": 14,
   "id": "209b21e4",
   "metadata": {},
   "outputs": [
    {
     "data": {
      "text/plain": [
       "array([[  2.      ,  14.765625,  38.8125  ],\n",
       "       [ 74.140625, 120.75    , 178.640625],\n",
       "       [247.8125  , 328.265625, 420.      ]])"
      ]
     },
     "execution_count": 14,
     "metadata": {},
     "output_type": "execute_result"
    }
   ],
   "source": [
    "#Ans:-\n",
    "arr1 * arr2"
   ]
  },
  {
   "cell_type": "markdown",
   "id": "17a9f31e",
   "metadata": {},
   "source": [
    "Q 3. Write a Python Program to transpose a Matrix ?"
   ]
  },
  {
   "cell_type": "code",
   "execution_count": 16,
   "id": "65354cef",
   "metadata": {},
   "outputs": [
    {
     "data": {
      "text/plain": [
       "array([[ 1.        ,  3.63636364,  6.27272727],\n",
       "       [ 8.90909091, 11.54545455, 14.18181818],\n",
       "       [16.81818182, 19.45454545, 22.09090909],\n",
       "       [24.72727273, 27.36363636, 30.        ]])"
      ]
     },
     "execution_count": 16,
     "metadata": {},
     "output_type": "execute_result"
    }
   ],
   "source": [
    "#Ans:-\n",
    "arr3 = np.linspace(1,30,num=12)\n",
    "arr3.reshape(4,3)"
   ]
  },
  {
   "cell_type": "code",
   "execution_count": 17,
   "id": "6499b894",
   "metadata": {},
   "outputs": [
    {
     "data": {
      "text/plain": [
       "array([[ 1.        ,  3.63636364],\n",
       "       [ 6.27272727,  8.90909091],\n",
       "       [11.54545455, 14.18181818],\n",
       "       [16.81818182, 19.45454545],\n",
       "       [22.09090909, 24.72727273],\n",
       "       [27.36363636, 30.        ]])"
      ]
     },
     "execution_count": 17,
     "metadata": {},
     "output_type": "execute_result"
    }
   ],
   "source": [
    "arr3.reshape(6,2)"
   ]
  },
  {
   "cell_type": "markdown",
   "id": "bbc911e9",
   "metadata": {},
   "source": [
    "Q 4. Write a Python Program to sort Words in an Alphabatical Order ?"
   ]
  },
  {
   "cell_type": "code",
   "execution_count": 45,
   "id": "49674a40",
   "metadata": {},
   "outputs": [
    {
     "data": {
      "text/plain": [
       "['come',\n",
       " 'go',\n",
       " 'go',\n",
       " 'good',\n",
       " 'hellow',\n",
       " 'is',\n",
       " 'let',\n",
       " 'my',\n",
       " 'participate',\n",
       " 'see',\n",
       " 'to',\n",
       " 'to',\n",
       " 'to',\n",
       " 'well',\n",
       " 'who',\n",
       " 'worlled']"
      ]
     },
     "execution_count": 45,
     "metadata": {},
     "output_type": "execute_result"
    }
   ],
   "source": [
    "#Ans:-\n",
    "string = \"hellow well come to my worlled let see who is go to participate good to go \"\n",
    "string1 =string.split()\n",
    "string1.sort()\n",
    "string1"
   ]
  },
  {
   "cell_type": "markdown",
   "id": "8916cf52",
   "metadata": {},
   "source": [
    "Q 5. Write a Python Program to remove Punctuations From a String ?"
   ]
  },
  {
   "cell_type": "code",
   "execution_count": 38,
   "id": "5b726365",
   "metadata": {},
   "outputs": [
    {
     "name": "stdout",
     "output_type": "stream",
     "text": [
      "enter the str :wellcome to#$my @#$%the gol\n",
      "wellcome tomy the gol"
     ]
    }
   ],
   "source": [
    "#Ans:-\n",
    "str1 = input(\"enter the str :\")\n",
    "punctuations = '''!()-[]{};:'\"\\,<>./?@#$%^&*_~'''\n",
    "for i in str1:\n",
    "    if i not in punctuations:\n",
    "        print(i,end= \"\")"
   ]
  },
  {
   "cell_type": "code",
   "execution_count": null,
   "id": "3db5c126",
   "metadata": {},
   "outputs": [],
   "source": []
  }
 ],
 "metadata": {
  "kernelspec": {
   "display_name": "Python 3 (ipykernel)",
   "language": "python",
   "name": "python3"
  },
  "language_info": {
   "codemirror_mode": {
    "name": "ipython",
    "version": 3
   },
   "file_extension": ".py",
   "mimetype": "text/x-python",
   "name": "python",
   "nbconvert_exporter": "python",
   "pygments_lexer": "ipython3",
   "version": "3.10.2"
  }
 },
 "nbformat": 4,
 "nbformat_minor": 5
}
