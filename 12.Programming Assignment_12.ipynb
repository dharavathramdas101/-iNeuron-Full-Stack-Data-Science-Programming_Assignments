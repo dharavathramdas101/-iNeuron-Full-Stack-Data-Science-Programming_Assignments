{
 "cells": [
  {
   "cell_type": "markdown",
   "id": "e32c0caa",
   "metadata": {},
   "source": [
    "# Programming Assignment_12"
   ]
  },
  {
   "cell_type": "markdown",
   "id": "e00f5f3b",
   "metadata": {},
   "source": [
    "Q 1.Write a Python program to Extract Unique values dictionary values?"
   ]
  },
  {
   "cell_type": "code",
   "execution_count": 30,
   "id": "d27c6d9f",
   "metadata": {},
   "outputs": [
    {
     "name": "stdout",
     "output_type": "stream",
     "text": [
      "dic_val : dict_values([6, 7, 4, 20, 15, 9, 4, 2, 2])\n",
      "unique_dict_valu : {2, 4, 6, 7, 9, 15, 20}\n"
     ]
    }
   ],
   "source": [
    "# Ans:-\n",
    "dict1 = {\"cat\":6,\"rat\":7,\"dog\":4,\"elephent\":20,\"lion\":15,\"cow\":9,\"bat\":4,\"hen\":2,\"bird\":2}\n",
    "dic_values= dict1.values()\n",
    "unique_val = set(dic_values)\n",
    "print(\"dic_val :\",dic_values)\n",
    "print(\"unique_dict_valu :\",unique_val)"
   ]
  },
  {
   "cell_type": "markdown",
   "id": "5eea9bf6",
   "metadata": {},
   "source": [
    "Q 2.Write a Python program to find the sum of all items in a dictionary?"
   ]
  },
  {
   "cell_type": "code",
   "execution_count": 17,
   "id": "85abb562",
   "metadata": {},
   "outputs": [
    {
     "name": "stdout",
     "output_type": "stream",
     "text": [
      "sum of all dic items : 450\n"
     ]
    }
   ],
   "source": [
    "#Ans:-\n",
    "froot= {\"bana\":40,\"orange\":30,\"apple\":200,\"grapes\":50,\"cherry\":130}\n",
    "print(\"sum of all dic items :\",sum(froot.values()))"
   ]
  },
  {
   "cell_type": "markdown",
   "id": "fe8fdfb8",
   "metadata": {},
   "source": [
    "Q 3.Write a Python program to Merging two Dictionaries?"
   ]
  },
  {
   "cell_type": "code",
   "execution_count": 16,
   "id": "602d0b9f",
   "metadata": {},
   "outputs": [
    {
     "name": "stdout",
     "output_type": "stream",
     "text": [
      "{'student_name': 'ram', 'coourse': 'FSDS_ineuron'}\n"
     ]
    }
   ],
   "source": [
    "#Ans:-\n",
    "student = {\"student_name\" :\"ram\"}\n",
    "course = {\"coourse\":\"FSDS_ineuron\"}\n",
    "student.update(course)\n",
    "print(student)"
   ]
  },
  {
   "cell_type": "markdown",
   "id": "ec934ef0",
   "metadata": {},
   "source": [
    "Q 4.Write a Python program to convert key-values list to flat dictionary?"
   ]
  },
  {
   "cell_type": "code",
   "execution_count": 18,
   "id": "783764af",
   "metadata": {},
   "outputs": [
    {
     "data": {
      "text/plain": [
       "{'mango': 60, 'banna': 55, 'orange': 40, 'grapes': 70}"
      ]
     },
     "execution_count": 18,
     "metadata": {},
     "output_type": "execute_result"
    }
   ],
   "source": [
    "#Ans:-\n",
    "lis_froot = [\"mango\",\"banna\",\"orange\",\"grapes\"]\n",
    "lis_prices = [60,55,40,70]\n",
    "dict(zip(lis_froot,lis_prices))"
   ]
  },
  {
   "cell_type": "markdown",
   "id": "64854858",
   "metadata": {},
   "source": [
    "Q 5.Write a Python program to insertion at the beginning in OrderedDict?"
   ]
  },
  {
   "cell_type": "code",
   "execution_count": 29,
   "id": "45b054f4",
   "metadata": {},
   "outputs": [
    {
     "name": "stdout",
     "output_type": "stream",
     "text": [
      "first_dict OrderedDict([('vivo', 10000), ('oppo', 9999), ('lava', 2300), ('nokia', 2500)])\n",
      " \n",
      "dict3 update OrderedDict([('vivo', 10000), ('oppo', 9999), ('lava', 2300), ('nokia', 2500), ('redmi', 8500)])\n",
      " \n",
      "OrderedDict([('redmi', 8500), ('vivo', 10000), ('oppo', 9999), ('lava', 2300), ('nokia', 2500)])\n"
     ]
    }
   ],
   "source": [
    "#Ans:-\n",
    "from collections import OrderedDict\n",
    "dict3 = OrderedDict({\"vivo\":10000,\"oppo\":9999,\"lava\":2300,\"nokia\":2500})\n",
    "print(\"first_dict\",dict3)\n",
    "print(\" \")\n",
    "dict4 = {\"redmi\":8500}\n",
    "dict3.update(dict4)\n",
    "print(\"dict3 update\",dict3)\n",
    "print(\" \")\n",
    "dict3.move_to_end(\"redmi\",last=False)\n",
    "print(dict3)"
   ]
  },
  {
   "cell_type": "markdown",
   "id": "3b844bcd",
   "metadata": {},
   "source": [
    "Q 6.Write a Python program to check order of character in string using OrderedDict()?"
   ]
  },
  {
   "cell_type": "code",
   "execution_count": 7,
   "id": "b11adade",
   "metadata": {},
   "outputs": [],
   "source": [
    "#Ans:-\n",
    "dict4 ={}\n",
    "dict4[\"potato\"]=45\n",
    "dict4[\"banna\"]=55\n",
    "dict4[\"orange\"]=60\n",
    "dict4[\"apple\"] = 44\n",
    "dict4[\"grapes\"] = 70"
   ]
  },
  {
   "cell_type": "code",
   "execution_count": 8,
   "id": "bf14c5a5",
   "metadata": {},
   "outputs": [
    {
     "data": {
      "text/plain": [
       "{'potato': 45, 'banna': 55, 'orange': 60, 'apple': 44, 'grapes': 70}"
      ]
     },
     "execution_count": 8,
     "metadata": {},
     "output_type": "execute_result"
    }
   ],
   "source": [
    "dict4"
   ]
  },
  {
   "cell_type": "code",
   "execution_count": 13,
   "id": "1705bd51",
   "metadata": {},
   "outputs": [
    {
     "name": "stdout",
     "output_type": "stream",
     "text": [
      "{'potato': 45, 'banna': 55, 'orange': 60, 'apple': 44, 'grapes': 70}\n",
      "OrderedDict([('apple', 44), ('banna', 55), ('grapes', 70), ('orange', 60), ('potato', 45)])\n"
     ]
    }
   ],
   "source": [
    "from collections import OrderedDict\n",
    "print(dict4)\n",
    "f_l = OrderedDict(dict(sorted(dict4.items())))\n",
    "print(f_l)"
   ]
  },
  {
   "cell_type": "markdown",
   "id": "bd16f6a5",
   "metadata": {},
   "source": [
    "Q 7.Write a Python program to sort Python Dictionaries by Key or Value?"
   ]
  },
  {
   "cell_type": "code",
   "execution_count": 18,
   "id": "4335410f",
   "metadata": {},
   "outputs": [
    {
     "data": {
      "text/plain": [
       "{'potato': 45, 'banna': 55, 'orange': 60, 'apple': 44, 'grapes': 70}"
      ]
     },
     "execution_count": 18,
     "metadata": {},
     "output_type": "execute_result"
    }
   ],
   "source": [
    "#Ans:-\n",
    "dict4"
   ]
  },
  {
   "cell_type": "code",
   "execution_count": 16,
   "id": "2aa8dccc",
   "metadata": {},
   "outputs": [
    {
     "name": "stdout",
     "output_type": "stream",
     "text": [
      "apple : 44\n",
      "banna : 55\n",
      "grapes : 70\n",
      "orange : 60\n",
      "potato : 45\n"
     ]
    }
   ],
   "source": [
    "for key in sorted(dict4):\n",
    "    print(\"%s : %s\" %(key,dict4[key]))"
   ]
  },
  {
   "cell_type": "code",
   "execution_count": null,
   "id": "f6ba6aad",
   "metadata": {},
   "outputs": [],
   "source": []
  }
 ],
 "metadata": {
  "kernelspec": {
   "display_name": "Python 3 (ipykernel)",
   "language": "python",
   "name": "python3"
  },
  "language_info": {
   "codemirror_mode": {
    "name": "ipython",
    "version": 3
   },
   "file_extension": ".py",
   "mimetype": "text/x-python",
   "name": "python",
   "nbconvert_exporter": "python",
   "pygments_lexer": "ipython3",
   "version": "3.9.7"
  }
 },
 "nbformat": 4,
 "nbformat_minor": 5
}
