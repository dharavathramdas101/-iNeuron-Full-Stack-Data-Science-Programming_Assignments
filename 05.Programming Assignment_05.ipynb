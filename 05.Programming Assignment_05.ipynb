{
 "cells": [
  {
   "cell_type": "markdown",
   "id": "b5d3f76c",
   "metadata": {},
   "source": [
    "# Programming Assignment_05.ipynb"
   ]
  },
  {
   "cell_type": "markdown",
   "id": "c75c88cb",
   "metadata": {},
   "source": [
    "Q 1. Write a Python Program to find LCM ?"
   ]
  },
  {
   "cell_type": "code",
   "execution_count": 4,
   "id": "2160d26a",
   "metadata": {},
   "outputs": [
    {
     "name": "stdout",
     "output_type": "stream",
     "text": [
      "1number :6\n",
      "2number :7\n",
      "42\n"
     ]
    }
   ],
   "source": [
    "Ans:\n",
    "x = int(input(\"1number :\"))\n",
    "y = int(input(\"2number :\"))\n",
    "if x > y:\n",
    "    greater = x\n",
    "else:\n",
    "    greater = y\n",
    "while True:\n",
    "    if (greater % x == 0) and (greater % y == 0):\n",
    "        lcm = greater\n",
    "        break\n",
    "    greater = greater + 1\n",
    "print(lcm)"
   ]
  },
  {
   "cell_type": "markdown",
   "id": "0718cffe",
   "metadata": {},
   "source": [
    "Q 2. Write a Python Program to Find HCF?"
   ]
  },
  {
   "cell_type": "code",
   "execution_count": 9,
   "id": "b40809b6",
   "metadata": {},
   "outputs": [
    {
     "name": "stdout",
     "output_type": "stream",
     "text": [
      "1number :5\n",
      "2number :30\n",
      "5 is Highest Common Factor of 5 & 30\n"
     ]
    }
   ],
   "source": [
    "# Ans:\n",
    "n1 = int(input(\"1number :\"))\n",
    "n2 = int(input(\"2number :\"))\n",
    "if n1 < n2:\n",
    "    small = n1\n",
    "else:\n",
    "    small = n2\n",
    "for i in range(1,small+1):\n",
    "    if (n1%i==0) and (n2%i==0):\n",
    "        hcf = i\n",
    "print(hcf,\"is Highest Common Factor of {} & {}\".format(n1,n2))\n"
   ]
  },
  {
   "cell_type": "markdown",
   "id": "d797d5f5",
   "metadata": {},
   "source": [
    "Q 3. Write a Python Program to Convert Decimal to Binary, Octal and Hexadecimal?"
   ]
  },
  {
   "cell_type": "code",
   "execution_count": 11,
   "id": "faf4582c",
   "metadata": {},
   "outputs": [
    {
     "name": "stdout",
     "output_type": "stream",
     "text": [
      "decimal : 311\n",
      "binary : 0b100110111\n",
      "octal : 0o467\n",
      "hexadecimal : 0x137\n"
     ]
    }
   ],
   "source": [
    "# Ans:\n",
    "decimal = 311\n",
    "binary = bin(decimal)\n",
    "octal = oct(decimal)\n",
    "hexadecimal = hex(decimal)\n",
    "print(\"decimal :\",decimal)\n",
    "print(\"binary :\",binary)\n",
    "print(\"octal :\",octal)\n",
    "print(\"hexadecimal :\",hexadecimal)"
   ]
  },
  {
   "cell_type": "markdown",
   "id": "04308c0b",
   "metadata": {},
   "source": [
    "Q 4. Write a Python Program To Find ASCII value of a character?"
   ]
  },
  {
   "cell_type": "code",
   "execution_count": 14,
   "id": "b6d11fc6",
   "metadata": {},
   "outputs": [
    {
     "name": "stdout",
     "output_type": "stream",
     "text": [
      " ASCII value of character I is 73\n"
     ]
    }
   ],
   "source": [
    "# Ans:\n",
    "character = \"I\"\n",
    "print(\" ASCII value of character {} is {}\".format(character,ord(character)))"
   ]
  },
  {
   "cell_type": "markdown",
   "id": "197135c8",
   "metadata": {},
   "source": [
    "Q 5. Write a Python Program to Make a Simple Calculator with 4 basic mathematical operations?"
   ]
  },
  {
   "cell_type": "code",
   "execution_count": 2,
   "id": "5eec234d",
   "metadata": {},
   "outputs": [
    {
     "name": "stdout",
     "output_type": "stream",
     "text": [
      "enter the number :30\n",
      "enter the 2number :40\n",
      "enter the mathematical operater +,-,*,/ :+\n",
      "70\n"
     ]
    }
   ],
   "source": [
    "# Ans:\n",
    "x = int(input(\"enter the number :\"))\n",
    "y= int(input(\"enter the 2number :\"))\n",
    "input1 = input(\"enter the mathematical operater +,-,*,/ :\")\n",
    "if input1 == \"+\":\n",
    "    print(x + y)\n",
    "elif input1 ==\"-\":\n",
    "    print(x - y)\n",
    "elif input1 == \"*\":\n",
    "    print(x * y)\n",
    "elif input1 == \"/\":\n",
    "    print(x / y)\n",
    "else:\n",
    "    print(\"Enter Correct input\")"
   ]
  },
  {
   "cell_type": "code",
   "execution_count": null,
   "id": "fdd765fb",
   "metadata": {},
   "outputs": [],
   "source": []
  }
 ],
 "metadata": {
  "kernelspec": {
   "display_name": "Python 3 (ipykernel)",
   "language": "python",
   "name": "python3"
  },
  "language_info": {
   "codemirror_mode": {
    "name": "ipython",
    "version": 3
   },
   "file_extension": ".py",
   "mimetype": "text/x-python",
   "name": "python",
   "nbconvert_exporter": "python",
   "pygments_lexer": "ipython3",
   "version": "3.9.7"
  }
 },
 "nbformat": 4,
 "nbformat_minor": 5
}
