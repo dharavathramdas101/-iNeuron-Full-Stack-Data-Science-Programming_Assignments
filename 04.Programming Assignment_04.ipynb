{
 "cells": [
  {
   "cell_type": "markdown",
   "id": "83f665a2",
   "metadata": {},
   "source": [
    "# Programming Assignment_04"
   ]
  },
  {
   "cell_type": "markdown",
   "id": "efc13234",
   "metadata": {},
   "source": [
    "Q 1.Write a Python Program to find the factorial of a number ?"
   ]
  },
  {
   "cell_type": "code",
   "execution_count": 7,
   "id": "c98ee193",
   "metadata": {},
   "outputs": [
    {
     "name": "stdout",
     "output_type": "stream",
     "text": [
      "enter the number :4\n",
      "24\n"
     ]
    }
   ],
   "source": [
    "number = int(input(\"enter the number :\"))\n",
    "facto = 1\n",
    "x = 1\n",
    "while x <= number :\n",
    "    facto = facto * x\n",
    "    x = x + 1\n",
    "print(facto)\n",
    "        "
   ]
  },
  {
   "cell_type": "markdown",
   "id": "18132a12",
   "metadata": {},
   "source": [
    "Q 2.Write a Python Program to display the multiplication table ?"
   ]
  },
  {
   "cell_type": "code",
   "execution_count": 13,
   "id": "183e291b",
   "metadata": {},
   "outputs": [
    {
     "name": "stdout",
     "output_type": "stream",
     "text": [
      "5 x 1 = 5\n",
      "5 x 2 = 10\n",
      "5 x 3 = 15\n",
      "5 x 4 = 20\n",
      "5 x 5 = 25\n",
      "5 x 6 = 30\n",
      "5 x 7 = 35\n",
      "5 x 8 = 40\n",
      "5 x 9 = 45\n",
      "5 x 10 = 50\n"
     ]
    }
   ],
   "source": [
    "x = 5\n",
    "for i in range(1,10+1):\n",
    "    print(x,\"x\",i,\"=\",x*i)"
   ]
  },
  {
   "cell_type": "code",
   "execution_count": null,
   "id": "cef3264a",
   "metadata": {},
   "outputs": [],
   "source": []
  },
  {
   "cell_type": "markdown",
   "id": "eaf01ec7",
   "metadata": {},
   "source": [
    "Q 3.Write a Python Program to print the fibonacci sequence ?"
   ]
  },
  {
   "cell_type": "code",
   "execution_count": 6,
   "id": "3bc742fa",
   "metadata": {},
   "outputs": [
    {
     "name": "stdout",
     "output_type": "stream",
     "text": [
      "How many terms the user wants to print? 8\n",
      "The fibonacci sequence of the numbers is:\n",
      "0\n",
      "1\n",
      "1\n",
      "2\n",
      "3\n",
      "5\n",
      "8\n",
      "13\n"
     ]
    }
   ],
   "source": [
    "n_terms = int(input (\"How many terms the user wants to print? \"))  \n",
    "  \n",
    "# First two terms  \n",
    "n_1 = 0  \n",
    "n_2 = 1  \n",
    "count = 0  \n",
    "  \n",
    "if n_terms <= 0:  \n",
    "    print (\"Please enter a positive integer, the given number is not valid\")  \n",
    "\n",
    "elif n_terms == 1:  \n",
    "    print (\"The Fibonacci sequence of the numbers up to\", n_terms, \": \")  \n",
    "    print(n_1)   \n",
    "else:  \n",
    "    print (\"The fibonacci sequence of the numbers is:\")  \n",
    "    while count < n_terms:  \n",
    "        print(n_1)  \n",
    "        nth = n_1 + n_2  \n",
    "       # we will update val \n",
    "        n_1 = n_2  \n",
    "        n_2 = nth  \n",
    "        count += 1  \n"
   ]
  },
  {
   "cell_type": "markdown",
   "id": "c44704ef",
   "metadata": {},
   "source": [
    "Q 4.Write a Python Program to check Armstrong number ?"
   ]
  },
  {
   "cell_type": "code",
   "execution_count": 19,
   "id": "8b0388b5",
   "metadata": {},
   "outputs": [
    {
     "name": "stdout",
     "output_type": "stream",
     "text": [
      "enter the number :11\n",
      "not aramstrong\n"
     ]
    }
   ],
   "source": [
    "number = input(\"enter the number :\")\n",
    "tem = 0\n",
    "for i in number :\n",
    "    tem = tem + int(i)**len(number)\n",
    "if int(number)== tem:\n",
    "    print(\"aramstrong\")\n",
    "else:\n",
    "    print (\"not aramstrong\")\n",
    "    "
   ]
  },
  {
   "cell_type": "markdown",
   "id": "3f86ed54",
   "metadata": {},
   "source": [
    "Q 5.Write a Python Program to Find Armstrong number in an interval ?"
   ]
  },
  {
   "cell_type": "code",
   "execution_count": 5,
   "id": "a9328f13",
   "metadata": {},
   "outputs": [
    {
     "name": "stdout",
     "output_type": "stream",
     "text": [
      "1, 2, 3, 4, 5, 6, 7, 8, 9, 153, 370, 371, 407, 1634, "
     ]
    }
   ],
   "source": [
    "lower = 1\n",
    "upper = 3000\n",
    "\n",
    "for num in range(lower, upper + 1):\n",
    "\n",
    "   # order of number\n",
    "   order = len(str(num))\n",
    "    \n",
    "   # initialize sum\n",
    "   sum = 0\n",
    "\n",
    "   temp = num\n",
    "   while temp > 0:\n",
    "       digit = temp % 10\n",
    "       sum += digit ** order\n",
    "       temp //= 10\n",
    "\n",
    "   if num == sum:\n",
    "       print(num,end=', ')"
   ]
  },
  {
   "cell_type": "markdown",
   "id": "057d051a",
   "metadata": {},
   "source": [
    "Q 6.Write a Python Program to sum of natural numbers ?"
   ]
  },
  {
   "cell_type": "code",
   "execution_count": 1,
   "id": "583d9b0f",
   "metadata": {},
   "outputs": [
    {
     "name": "stdout",
     "output_type": "stream",
     "text": [
      "enter the number :100\n",
      "5050\n"
     ]
    }
   ],
   "source": [
    "number = int(input(\"enter the number :\"))\n",
    "sum = 0\n",
    "x = 1\n",
    "while x <= number:\n",
    "    sum = sum + x\n",
    "    x = x + 1\n",
    "print(sum)"
   ]
  },
  {
   "cell_type": "code",
   "execution_count": null,
   "id": "7e99d314",
   "metadata": {},
   "outputs": [],
   "source": []
  }
 ],
 "metadata": {
  "kernelspec": {
   "display_name": "Python 3 (ipykernel)",
   "language": "python",
   "name": "python3"
  },
  "language_info": {
   "codemirror_mode": {
    "name": "ipython",
    "version": 3
   },
   "file_extension": ".py",
   "mimetype": "text/x-python",
   "name": "python",
   "nbconvert_exporter": "python",
   "pygments_lexer": "ipython3",
   "version": "3.10.2"
  }
 },
 "nbformat": 4,
 "nbformat_minor": 5
}
