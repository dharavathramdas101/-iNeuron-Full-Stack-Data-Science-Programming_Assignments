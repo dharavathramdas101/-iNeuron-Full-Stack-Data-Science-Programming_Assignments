{
 "cells": [
  {
   "cell_type": "markdown",
   "id": "6a67bd4e",
   "metadata": {},
   "source": [
    "# Programming Assignment_24"
   ]
  },
  {
   "cell_type": "markdown",
   "id": "65f8e6bc",
   "metadata": {},
   "source": [
    "### Q1.Create a function that takes an integer and returns a list from 1 to the given number, where:"
   ]
  },
  {
   "cell_type": "markdown",
   "id": "23cf156c",
   "metadata": {},
   "source": [
    "    1.If the number can be divided evenly by 4, amplify it by 10 (i.e. return 10 times the number).\n",
    "    2.If the number cannot be divided evenly by 4, simply return the number.\n",
    "\n",
    "    Examples:\n",
    "    amplify(4) ➞ [1, 2, 3, 40]\n",
    "    amplify(3) ➞ [1, 2, 3]\n",
    "    amplify(25) ➞ [1, 2, 3, 40, 5, 6, 7, 80, 9, 10, 11, 120, 13, 14, 15, 160, 17, 18, 19, 200, 21, 22, 23, 240, 25]\n",
    "\n",
    "    Notes:\n",
    "    1.The given integer will always be equal to or greater than 1.\n",
    "    2.Include the number (see example above).\n",
    "    3.To perform this problem with its intended purpose, try doing it with list"
   ]
  },
  {
   "cell_type": "code",
   "execution_count": 1,
   "id": "6772a3d1",
   "metadata": {},
   "outputs": [],
   "source": [
    "def amplify(num):\n",
    "    results = []\n",
    "    for i in range(1,num+1):\n",
    "        if i%4 == 0:\n",
    "            results.append(i*10)\n",
    "        else:\n",
    "            results.append(i)\n",
    "    return results"
   ]
  },
  {
   "cell_type": "code",
   "execution_count": 4,
   "id": "510bd9a8",
   "metadata": {},
   "outputs": [
    {
     "name": "stdout",
     "output_type": "stream",
     "text": [
      "[1, 2, 3, 40]\n",
      "[1, 2, 3]\n",
      "[1, 2, 3, 40, 5, 6, 7, 80, 9, 10, 11, 120, 13, 14, 15, 160, 17, 18, 19, 200, 21, 22, 23, 240, 25]\n"
     ]
    }
   ],
   "source": [
    "print(amplify(4))\n",
    "print(amplify(3))\n",
    "print(amplify(25)) "
   ]
  },
  {
   "cell_type": "markdown",
   "id": "11e1ac03",
   "metadata": {},
   "source": [
    "### 2.Create a function that takes a list of numbers and return the number that's unique.\n",
    "    Examples:\n",
    "    unique([3, 3, 3, 7, 3, 3]) ➞ 7\n",
    "    unique([0, 0, 0.77, 0, 0]) ➞ 0.77\n",
    "    unique([0, 1, 1, 1, 1, 1, 1, 1]) ➞ 0\n",
    "\n",
    "    Notes:\n",
    "    Test cases will always have exactly one unique number while all others are the same."
   ]
  },
  {
   "cell_type": "code",
   "execution_count": 5,
   "id": "1de620c5",
   "metadata": {},
   "outputs": [],
   "source": [
    "def unique(lst):\n",
    "    for num in lst:\n",
    "        if lst.count(num) == 1:\n",
    "            return num"
   ]
  },
  {
   "cell_type": "code",
   "execution_count": 6,
   "id": "d5a3c4f1",
   "metadata": {},
   "outputs": [
    {
     "name": "stdout",
     "output_type": "stream",
     "text": [
      "7\n",
      "0.77\n",
      "0\n"
     ]
    }
   ],
   "source": [
    "print(unique([3, 3, 3, 7, 3, 3]))  # ➞ 7\n",
    "print(unique([0, 0, 0.77, 0, 0]))  # ➞ 0.77\n",
    "print(unique([0, 1, 1, 1, 1, 1, 1, 1])) # "
   ]
  },
  {
   "cell_type": "markdown",
   "id": "74c7d0f0",
   "metadata": {},
   "source": [
    "### 3.Your task is to create a Circle constructor that creates a circle with a radius provided by an argument. The circles constructed must have two getters getArea() (PIr^2) and getPerimeter() (2PI*r) which give both respective areas and perimeter (circumference). For help with this class, I have provided you with a Rectangle constructor which you can use as a base example ?\n",
    "    Examples:\n",
    "    circy = Circle(11)\n",
    "    circy.getArea()\n",
    "    # Should return 380.132711084365 circy = Circle(4.44)\n",
    "    circy.getPerimeter()\n",
    "    # Should return 27.897342763877365\n",
    "\n",
    "    Notes:\n",
    "    Round results up to the nearest integer."
   ]
  },
  {
   "cell_type": "code",
   "execution_count": 10,
   "id": "adff0fef",
   "metadata": {},
   "outputs": [],
   "source": [
    "import math\n",
    "class Circle:\n",
    "    def __init__(self,radius):\n",
    "        self.radius = radius\n",
    "    \n",
    "    def getArea(self):\n",
    "        return round(math.pi*self.radius**2)\n",
    "    def getPerimeter(self):\n",
    "        return round(2 * math.pi * self.radius)"
   ]
  },
  {
   "cell_type": "code",
   "execution_count": 11,
   "id": "3b31d09e",
   "metadata": {},
   "outputs": [
    {
     "name": "stdout",
     "output_type": "stream",
     "text": [
      "380\n",
      "69\n",
      "62\n",
      "28\n"
     ]
    }
   ],
   "source": [
    "circy = Circle(11)\n",
    "print(circy.getArea())  # ➞ 380\n",
    "print(circy.getPerimeter())  # ➞ 68\n",
    "\n",
    "circy = Circle(4.44)\n",
    "print(circy.getArea())  # ➞ 62\n",
    "print(circy.getPerimeter())  # ➞ 28"
   ]
  },
  {
   "cell_type": "markdown",
   "id": "88cf75c9",
   "metadata": {},
   "source": [
    "### 4.Create a function that takes a list of strings and return a list, sorted from shortest to longest.\n",
    "    Examples:\n",
    "    sort_by_length([\"Google\", \"Apple\", \"Microsoft\"])\n",
    "    ➞ [\"Apple\", \"Google\", \"Microsoft\"]\n",
    "    sort_by_length([\"Leonardo\", \"Michelangelo\", \"Raphael\", \"Donatello\"])\n",
    "    ➞ [\"Raphael\", \"Leonardo\", \"Donatello\", \"Michelangelo\"]\n",
    "    sort_by_length([\"Turing\", \"Einstein\", \"Jung\"])\n",
    "    ➞ [\"Jung\", \"Turing\", \"Einstein\"]\n",
    "\n",
    "    Notes:\n",
    "    All test cases contain lists with strings of different lengths, so you won't have to deal with multiple strings of the same length."
   ]
  },
  {
   "cell_type": "code",
   "execution_count": 14,
   "id": "03375099",
   "metadata": {},
   "outputs": [],
   "source": [
    "def sort_by_length(lst):\n",
    "    return sorted(lst,key=lambda x: len(x))"
   ]
  },
  {
   "cell_type": "code",
   "execution_count": 15,
   "id": "cabc98e2",
   "metadata": {},
   "outputs": [
    {
     "name": "stdout",
     "output_type": "stream",
     "text": [
      "['Apple', 'Google', 'Microsoft']\n",
      "['Raphael', 'Leonardo', 'Donatello', 'Michelangelo']\n",
      "['Jung', 'Turing', 'Einstein']\n"
     ]
    }
   ],
   "source": [
    "print(sort_by_length([\"Google\", \"Apple\", \"Microsoft\"]))  # ➞ [\"Apple\", \"Google\", \"Microsoft\"]\n",
    "print(sort_by_length([\"Leonardo\", \"Michelangelo\", \"Raphael\", \"Donatello\"]))  # ➞ [\"Raphael\", \"Leonardo\", \"Donatello\", \"Michelangelo\"]\n",
    "print(sort_by_length([\"Turing\", \"Einstein\", \"Jung\"]))  # ➞ [\"Jung\", \"Turing\", \"Einstein\"]"
   ]
  },
  {
   "cell_type": "markdown",
   "id": "1bc7fba9",
   "metadata": {},
   "source": [
    "### 5.Create a function that validates whether three given integers form a Pythagorean triplet. The sum of the squares of the two smallest integers must equal the square of the largest number to be validated.\n",
    "    Examples:\n",
    "    is_triplet(3, 4, 5) ➞ True # 3² + 4² = 25 # 5² = 25 is_triplet(13, 5, 12) ➞ True # 5² + 12² = 169 # 13² = 169 is_triplet(1, 2, 3) ➞ False # 1² + 2² = 5 # 3² = 9\n",
    "\n",
    "    Notes: Numbers may not be given in a sorted order."
   ]
  },
  {
   "cell_type": "code",
   "execution_count": 16,
   "id": "f96ea441",
   "metadata": {},
   "outputs": [],
   "source": [
    "def is_triplet(n1, n2, n3):\n",
    "  numbers = [n1, n2, n3]\n",
    "  numbers.sort()  # sort the numbers in ascending order\n",
    "  return any([numbers[0]**2 + numbers[1]**2 == numbers[2]**2])"
   ]
  },
  {
   "cell_type": "code",
   "execution_count": 17,
   "id": "fd05ca16",
   "metadata": {},
   "outputs": [
    {
     "name": "stdout",
     "output_type": "stream",
     "text": [
      "True\n",
      "True\n",
      "False\n"
     ]
    }
   ],
   "source": [
    "print(is_triplet(3, 4, 5))  # ➞ True\n",
    "print(is_triplet(13, 5, 12))  # ➞ True\n",
    "print(is_triplet(1, 2, 3))  # ➞ False"
   ]
  },
  {
   "cell_type": "code",
   "execution_count": null,
   "id": "ecf7f723",
   "metadata": {},
   "outputs": [],
   "source": []
  }
 ],
 "metadata": {
  "kernelspec": {
   "display_name": "Python 3 (ipykernel)",
   "language": "python",
   "name": "python3"
  },
  "language_info": {
   "codemirror_mode": {
    "name": "ipython",
    "version": 3
   },
   "file_extension": ".py",
   "mimetype": "text/x-python",
   "name": "python",
   "nbconvert_exporter": "python",
   "pygments_lexer": "ipython3",
   "version": "3.9.7"
  }
 },
 "nbformat": 4,
 "nbformat_minor": 5
}
