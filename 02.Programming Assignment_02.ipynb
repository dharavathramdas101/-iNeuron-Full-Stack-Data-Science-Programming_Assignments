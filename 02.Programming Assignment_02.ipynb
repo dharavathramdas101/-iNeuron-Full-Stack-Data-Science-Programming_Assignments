{
 "cells": [
  {
   "cell_type": "markdown",
   "id": "37056d26",
   "metadata": {},
   "source": [
    "# 02.Programming Assignment_02"
   ]
  },
  {
   "cell_type": "markdown",
   "id": "26486917",
   "metadata": {},
   "source": [
    "Q 1.Write a Python program to convert Kilometers to Miles ?"
   ]
  },
  {
   "cell_type": "code",
   "execution_count": 4,
   "id": "d8182900",
   "metadata": {},
   "outputs": [
    {
     "name": "stdout",
     "output_type": "stream",
     "text": [
      "enter the input kilometer :-1\n",
      "miles : 0.621327\n"
     ]
    }
   ],
   "source": [
    "kilometer = int(input('enter the input kilometer :-'))\n",
    "miles = kilometer * 0.621327  # 1 km = o.621327 miles\n",
    "print('miles :',miles)"
   ]
  },
  {
   "cell_type": "markdown",
   "id": "8ae70ced",
   "metadata": {},
   "source": [
    "Q 2.Write a Python program to convert Celsius to Farenheit ?"
   ]
  },
  {
   "cell_type": "code",
   "execution_count": 8,
   "id": "2dbe3b1a",
   "metadata": {},
   "outputs": [
    {
     "name": "stdout",
     "output_type": "stream",
     "text": [
      "enter the celsius :2\n",
      "2 celsius to farenheit 35.6\n"
     ]
    }
   ],
   "source": [
    "celsius = int(input('enter the celsius :'))\n",
    "farenheit = (celsius * 1.8 ) + 32\n",
    "print('{} celsius to farenheit'.format(celsius), farenheit)"
   ]
  },
  {
   "cell_type": "markdown",
   "id": "92c0801a",
   "metadata": {},
   "source": [
    "Q 3.Write a Python program to display calender ?"
   ]
  },
  {
   "cell_type": "code",
   "execution_count": 11,
   "id": "d08ae310",
   "metadata": {},
   "outputs": [
    {
     "name": "stdout",
     "output_type": "stream",
     "text": [
      "enter calender year :1999\n",
      "                                  1999\n",
      "\n",
      "      January                   February                   March\n",
      "Mo Tu We Th Fr Sa Su      Mo Tu We Th Fr Sa Su      Mo Tu We Th Fr Sa Su\n",
      "             1  2  3       1  2  3  4  5  6  7       1  2  3  4  5  6  7\n",
      " 4  5  6  7  8  9 10       8  9 10 11 12 13 14       8  9 10 11 12 13 14\n",
      "11 12 13 14 15 16 17      15 16 17 18 19 20 21      15 16 17 18 19 20 21\n",
      "18 19 20 21 22 23 24      22 23 24 25 26 27 28      22 23 24 25 26 27 28\n",
      "25 26 27 28 29 30 31                                29 30 31\n",
      "\n",
      "       April                      May                       June\n",
      "Mo Tu We Th Fr Sa Su      Mo Tu We Th Fr Sa Su      Mo Tu We Th Fr Sa Su\n",
      "          1  2  3  4                      1  2          1  2  3  4  5  6\n",
      " 5  6  7  8  9 10 11       3  4  5  6  7  8  9       7  8  9 10 11 12 13\n",
      "12 13 14 15 16 17 18      10 11 12 13 14 15 16      14 15 16 17 18 19 20\n",
      "19 20 21 22 23 24 25      17 18 19 20 21 22 23      21 22 23 24 25 26 27\n",
      "26 27 28 29 30            24 25 26 27 28 29 30      28 29 30\n",
      "                          31\n",
      "\n",
      "        July                     August                  September\n",
      "Mo Tu We Th Fr Sa Su      Mo Tu We Th Fr Sa Su      Mo Tu We Th Fr Sa Su\n",
      "          1  2  3  4                         1             1  2  3  4  5\n",
      " 5  6  7  8  9 10 11       2  3  4  5  6  7  8       6  7  8  9 10 11 12\n",
      "12 13 14 15 16 17 18       9 10 11 12 13 14 15      13 14 15 16 17 18 19\n",
      "19 20 21 22 23 24 25      16 17 18 19 20 21 22      20 21 22 23 24 25 26\n",
      "26 27 28 29 30 31         23 24 25 26 27 28 29      27 28 29 30\n",
      "                          30 31\n",
      "\n",
      "      October                   November                  December\n",
      "Mo Tu We Th Fr Sa Su      Mo Tu We Th Fr Sa Su      Mo Tu We Th Fr Sa Su\n",
      "             1  2  3       1  2  3  4  5  6  7             1  2  3  4  5\n",
      " 4  5  6  7  8  9 10       8  9 10 11 12 13 14       6  7  8  9 10 11 12\n",
      "11 12 13 14 15 16 17      15 16 17 18 19 20 21      13 14 15 16 17 18 19\n",
      "18 19 20 21 22 23 24      22 23 24 25 26 27 28      20 21 22 23 24 25 26\n",
      "25 26 27 28 29 30 31      29 30                     27 28 29 30 31\n",
      "\n"
     ]
    }
   ],
   "source": [
    "import calendar\n",
    "year = int(input('enter calender year :'))\n",
    "calendar = calendar.calendar(year)\n",
    "print(calendar)"
   ]
  },
  {
   "cell_type": "markdown",
   "id": "0416280a",
   "metadata": {},
   "source": [
    "Q 4.Write a Python program to solve quadartic equation ?"
   ]
  },
  {
   "cell_type": "code",
   "execution_count": 20,
   "id": "96d7a9ef",
   "metadata": {},
   "outputs": [
    {
     "name": "stdout",
     "output_type": "stream",
     "text": [
      "enter the a :8\n",
      "enter the b :5\n",
      "enter the c :9\n",
      "there are 2 rooots:  (-0.3125+1.0135796712641785j) (-0.3125-1.0135796712641785j)\n"
     ]
    }
   ],
   "source": [
    "import cmath\n",
    "a = float(input('enter the a :'))\n",
    "b = float(input('enter the b :'))\n",
    "c = float(input('enter the c :'))\n",
    "\n",
    "r = (b **2 )-(4 * a * c )\n",
    "\n",
    "num_roots = 2\n",
    "x1 = (((-b) + cmath.sqrt(r))/(2*a))\n",
    "x2 = (((-b) - cmath.sqrt(r))/(2*a))\n",
    "print(\"there are 2 rooots: \",x1,x2)\n"
   ]
  },
  {
   "cell_type": "markdown",
   "id": "b2e68b45",
   "metadata": {},
   "source": [
    "Q 5.Write a Python program to swap two variables without temp variable ?"
   ]
  },
  {
   "cell_type": "code",
   "execution_count": 21,
   "id": "3d6e58cb",
   "metadata": {},
   "outputs": [
    {
     "name": "stdout",
     "output_type": "stream",
     "text": [
      "enter the number 10\n",
      "enter the number 20\n",
      "before swap : 10 20\n",
      "after swap : 20 10\n"
     ]
    }
   ],
   "source": [
    "num1 = int(input(\"enter the number \"))\n",
    "num2 = int(input(\"enter the number \"))\n",
    "print(\"before swap :\" ,num1 ,num2)\n",
    "num1 , num2 = num2 ,num1\n",
    "print('after swap :', num1 ,num2)"
   ]
  },
  {
   "cell_type": "code",
   "execution_count": null,
   "id": "5447d259",
   "metadata": {},
   "outputs": [],
   "source": []
  }
 ],
 "metadata": {
  "kernelspec": {
   "display_name": "Python 3 (ipykernel)",
   "language": "python",
   "name": "python3"
  },
  "language_info": {
   "codemirror_mode": {
    "name": "ipython",
    "version": 3
   },
   "file_extension": ".py",
   "mimetype": "text/x-python",
   "name": "python",
   "nbconvert_exporter": "python",
   "pygments_lexer": "ipython3",
   "version": "3.9.7"
  }
 },
 "nbformat": 4,
 "nbformat_minor": 5
}
