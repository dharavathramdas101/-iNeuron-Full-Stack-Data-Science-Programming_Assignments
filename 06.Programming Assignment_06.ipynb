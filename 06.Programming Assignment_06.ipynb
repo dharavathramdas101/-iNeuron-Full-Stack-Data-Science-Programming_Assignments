{
 "cells": [
  {
   "cell_type": "markdown",
   "id": "4597441e",
   "metadata": {},
   "source": [
    "# Programming Assignment_06"
   ]
  },
  {
   "cell_type": "markdown",
   "id": "00f2cb17",
   "metadata": {},
   "source": [
    "Q 1. Write a Python Program to Display Fibonacci Sequence using Recursion ?"
   ]
  },
  {
   "cell_type": "code",
   "execution_count": 7,
   "id": "4d3bccc7",
   "metadata": {},
   "outputs": [
    {
     "name": "stdout",
     "output_type": "stream",
     "text": [
      "0 1 1 2 3 5 8 13 "
     ]
    }
   ],
   "source": [
    "#Ans:\n",
    "def fibonacci_sequence(num,n1,n2,sum1):\n",
    "    #num = int(input(\"enter the number how namy sequence:\"))\n",
    "    #n1 = 0 \n",
    "    #n2 = 1\n",
    "    #sum1 = 0\n",
    "    if num <= 0:\n",
    "        print(\"please enter the correct number \")\n",
    "    else:\n",
    "        for i in range(0,num):\n",
    "            print(sum1,end = \" \")\n",
    "            n1 = n2\n",
    "            n2 = sum1\n",
    "            sum1 = n1 + n2\n",
    "fibonacci_sequence(8,0,1,0)"
   ]
  },
  {
   "cell_type": "markdown",
   "id": "b1ea668b",
   "metadata": {},
   "source": [
    "Q 2. Write a Python Program to Find Factorial of a Number using Recursion ?"
   ]
  },
  {
   "cell_type": "code",
   "execution_count": 9,
   "id": "7ac1ef9a",
   "metadata": {},
   "outputs": [
    {
     "name": "stdout",
     "output_type": "stream",
     "text": [
      "enter the number :5\n"
     ]
    },
    {
     "data": {
      "text/plain": [
       "120"
      ]
     },
     "execution_count": 9,
     "metadata": {},
     "output_type": "execute_result"
    }
   ],
   "source": [
    "#Ans:\n",
    "def factorial(num):\n",
    "    fact = 1\n",
    "    fact1 = 1\n",
    "    while fact1 <= num:\n",
    "        fact = fact *fact1\n",
    "        fact1 = fact1 + 1\n",
    "    return fact\n",
    "factorial(int(input(\"enter the number :\")))"
   ]
  },
  {
   "cell_type": "markdown",
   "id": "c6672ec1",
   "metadata": {},
   "source": [
    "Q 3. Write a Python Program to Calculate your Body Mass Index ?"
   ]
  },
  {
   "cell_type": "code",
   "execution_count": 15,
   "id": "510ce2f5",
   "metadata": {},
   "outputs": [
    {
     "name": "stdout",
     "output_type": "stream",
     "text": [
      "enter your height in cm :152\n",
      "neter your weight in kg :50\n"
     ]
    },
    {
     "data": {
      "text/plain": [
       "(21.641274238227147, 'healthy')"
      ]
     },
     "execution_count": 15,
     "metadata": {},
     "output_type": "execute_result"
    }
   ],
   "source": [
    "#Ans:\n",
    "def Body_mass_index1(height,weight):\n",
    "    \n",
    "    Body_mass_index = weight / (height/100) **2\n",
    "    \"\"\"converted height cm to meters \"\"\"\n",
    "    if (Body_mass_index < 18.5):\n",
    "        status =\"underweight\"\n",
    "    elif (Body_mass_index >= 18.5 and Body_mass_index < 24.9):\n",
    "        status = \"healthy\"\n",
    "    elif (Body_mass_index >= 24.9 and Body_mass_index <30):\n",
    "        status = \"overweight\"\n",
    "    elif (Body_mass_index >= 30):\n",
    "        status = \"suffering from obesity\"\n",
    "    return (Body_mass_index,status)\n",
    "height = float(input(\"enter your height in cm :\"))\n",
    "weight = float(input(\"neter your weight in kg :\"))\n",
    "Body_mass_index1(height,weight)"
   ]
  },
  {
   "cell_type": "markdown",
   "id": "c703b908",
   "metadata": {},
   "source": [
    "Q 4. Write a Python Program to Calculate the Natural Logarithm of any Number ?"
   ]
  },
  {
   "cell_type": "code",
   "execution_count": 19,
   "id": "811c91a6",
   "metadata": {},
   "outputs": [
    {
     "name": "stdout",
     "output_type": "stream",
     "text": [
      "100\n"
     ]
    },
    {
     "data": {
      "text/plain": [
       "4.605170185988092"
      ]
     },
     "execution_count": 19,
     "metadata": {},
     "output_type": "execute_result"
    }
   ],
   "source": [
    "#Ans:\n",
    "import math\n",
    "def natural_logarithm(num2):\n",
    "    return (math.log(num2))\n",
    "natural_logarithm(int(input()))"
   ]
  },
  {
   "cell_type": "markdown",
   "id": "f0b7d2d1",
   "metadata": {},
   "source": [
    "Q 5. Write a Python Program for Cube sum of first n Natural Numbers ?"
   ]
  },
  {
   "cell_type": "code",
   "execution_count": 15,
   "id": "3703d73f",
   "metadata": {},
   "outputs": [
    {
     "data": {
      "text/plain": [
       "225"
      ]
     },
     "execution_count": 15,
     "metadata": {},
     "output_type": "execute_result"
    }
   ],
   "source": [
    "#Ans:\n",
    "def cube_of_naturatel_num(num1):\n",
    "    sum = 0\n",
    "    for i in range(1,num1+1):\n",
    "        sum = sum +(i**3)\n",
    "    return sum\n",
    "cube_of_naturatel_num(5)"
   ]
  },
  {
   "cell_type": "code",
   "execution_count": null,
   "id": "31b26238",
   "metadata": {},
   "outputs": [],
   "source": []
  }
 ],
 "metadata": {
  "kernelspec": {
   "display_name": "Python 3 (ipykernel)",
   "language": "python",
   "name": "python3"
  },
  "language_info": {
   "codemirror_mode": {
    "name": "ipython",
    "version": 3
   },
   "file_extension": ".py",
   "mimetype": "text/x-python",
   "name": "python",
   "nbconvert_exporter": "python",
   "pygments_lexer": "ipython3",
   "version": "3.10.2"
  }
 },
 "nbformat": 4,
 "nbformat_minor": 5
}
