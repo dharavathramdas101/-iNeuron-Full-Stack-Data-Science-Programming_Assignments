{
 "cells": [
  {
   "cell_type": "markdown",
   "id": "5729121c",
   "metadata": {},
   "source": [
    "# Programming Assignment_10"
   ]
  },
  {
   "cell_type": "markdown",
   "id": "a81cf5db",
   "metadata": {},
   "source": [
    "Q 1.Write a Python Program to find sum of elements in a list ?"
   ]
  },
  {
   "cell_type": "code",
   "execution_count": 2,
   "id": "5b2144a0",
   "metadata": {},
   "outputs": [
    {
     "name": "stdout",
     "output_type": "stream",
     "text": [
      "21\n"
     ]
    }
   ],
   "source": [
    "#Ans:-\n",
    "list1 = [2,4,6,9]\n",
    "n = 0\n",
    "sum1 = 0\n",
    "while n <= len(list1):\n",
    "    sum1 = sum1 + list1[n]\n",
    "    n= n +1\n",
    "    if n == len(list1):\n",
    "        break\n",
    "print(sum1)"
   ]
  },
  {
   "cell_type": "markdown",
   "id": "231fa492",
   "metadata": {},
   "source": [
    "Q 2.Write a Python Program to multiply all numbers in the list ?"
   ]
  },
  {
   "cell_type": "code",
   "execution_count": 3,
   "id": "5b148066",
   "metadata": {},
   "outputs": [
    {
     "name": "stdout",
     "output_type": "stream",
     "text": [
      "120\n"
     ]
    }
   ],
   "source": [
    "#Ans:-\n",
    "list2 = [1,2,3,4,5]\n",
    "mult = 1\n",
    "for i in range(len(list2)):\n",
    "    mult = mult * list2[i]\n",
    "print(mult)"
   ]
  },
  {
   "cell_type": "markdown",
   "id": "1cadb9c9",
   "metadata": {},
   "source": [
    "Q 3.Write a Python Program to find smallest number in the list ?"
   ]
  },
  {
   "cell_type": "code",
   "execution_count": 4,
   "id": "34bbffff",
   "metadata": {},
   "outputs": [
    {
     "name": "stdout",
     "output_type": "stream",
     "text": [
      "1\n"
     ]
    }
   ],
   "source": [
    "#Ans:-\n",
    "list3 = [4,7,2,3,9,1,5,3,2,7]\n",
    "small = list3[0]\n",
    "for i in list3:\n",
    "    if small > i:\n",
    "        small = i\n",
    "print(small)"
   ]
  },
  {
   "cell_type": "markdown",
   "id": "b731c118",
   "metadata": {},
   "source": [
    "Q 4.Write a Python Program to find largest number in the list ?"
   ]
  },
  {
   "cell_type": "code",
   "execution_count": 12,
   "id": "a55715c7",
   "metadata": {},
   "outputs": [
    {
     "name": "stdout",
     "output_type": "stream",
     "text": [
      "9\n"
     ]
    }
   ],
   "source": [
    "#Ans:-\n",
    "list4 = [4,1,9,5,7,4,3,2,8]\n",
    "large = list4[0]\n",
    "for i in list4:\n",
    "    if i > large:\n",
    "        large = i\n",
    "print(large)"
   ]
  },
  {
   "cell_type": "markdown",
   "id": "54e5473c",
   "metadata": {},
   "source": [
    "Q 5.Write a Python Program to find second largest number in the list ?"
   ]
  },
  {
   "cell_type": "code",
   "execution_count": 55,
   "id": "f6674f7b",
   "metadata": {},
   "outputs": [
    {
     "name": "stdout",
     "output_type": "stream",
     "text": [
      "7\n"
     ]
    }
   ],
   "source": [
    "#Ans:-\n",
    "list5 = [3,7,4,9,1,3,6,7,2]\n",
    "fir_lar = list5[0]\n",
    "sec_lar = list5[0]\n",
    "for i in list5:\n",
    "    if i > fir_lar:\n",
    "        fir_lar = i\n",
    "    if i > sec_lar and i != fir_lar:\n",
    "        sec_lar = i\n",
    "print(sec_lar)"
   ]
  },
  {
   "cell_type": "markdown",
   "id": "841dc373",
   "metadata": {},
   "source": [
    "Q 6.Write a Python Program to find N largest elements in the list ?"
   ]
  },
  {
   "cell_type": "code",
   "execution_count": 54,
   "id": "6b99c3c1",
   "metadata": {},
   "outputs": [
    {
     "name": "stdout",
     "output_type": "stream",
     "text": [
      "1\n",
      "Nlargestnumber 0 to any :  8\n"
     ]
    }
   ],
   "source": [
    "#Ans:-\n",
    "N = int(input())\n",
    "list4 =[4,3,8,9,1,0,4,5,6,7]\n",
    "list4.sort(reverse = True)\n",
    "print(\"Nlargestnumber 0 to any : \",list4[N])"
   ]
  },
  {
   "cell_type": "markdown",
   "id": "964835a1",
   "metadata": {},
   "source": [
    "Q 7.Write a Python Program to find even numbers in the list ?"
   ]
  },
  {
   "cell_type": "code",
   "execution_count": 51,
   "id": "2e4f9a69",
   "metadata": {},
   "outputs": [
    {
     "name": "stdout",
     "output_type": "stream",
     "text": [
      "[4, 2, 4, 6, 8]\n"
     ]
    }
   ],
   "source": [
    "#Ans:-\n",
    "list14 = [4,7,99,1,2,3,4,5,6,7,8,9]\n",
    "print([j for j in list14 if j%2 == 0])"
   ]
  },
  {
   "cell_type": "markdown",
   "id": "5e6d955d",
   "metadata": {},
   "source": [
    "Q 8.Write a Python Program to find odd numbers in the list ?"
   ]
  },
  {
   "cell_type": "code",
   "execution_count": 50,
   "id": "17cbbef1",
   "metadata": {},
   "outputs": [
    {
     "name": "stdout",
     "output_type": "stream",
     "text": [
      "[5, 9, 7, 1, 5, 7]\n"
     ]
    }
   ],
   "source": [
    "#Ans:-\n",
    "list15 = [2,4,5,9,7,1,5,7,8]\n",
    "print([i for i in list15 if i%2 != 0])"
   ]
  },
  {
   "cell_type": "markdown",
   "id": "e73c3c2e",
   "metadata": {},
   "source": [
    "Q 9.Write a Python Program to remove empty list from list ?"
   ]
  },
  {
   "cell_type": "code",
   "execution_count": 49,
   "id": "f3231c15",
   "metadata": {},
   "outputs": [
    {
     "name": "stdout",
     "output_type": "stream",
     "text": [
      "[1, 2, 3, 4, [4, 5], 88, 'ram', 'ineuron', ['data']]\n"
     ]
    }
   ],
   "source": [
    "#Ans:-\n",
    "list16 = [1,2,3,4,[4,5],[],88,\"ram\",[],\"ineuron\",[\"data\"]]\n",
    "print([i for i in list16 if i != []])"
   ]
  },
  {
   "cell_type": "markdown",
   "id": "72627d6a",
   "metadata": {},
   "source": [
    "Q 10.Write a Python Program to Cloning or Copying a list ?"
   ]
  },
  {
   "cell_type": "code",
   "execution_count": 30,
   "id": "22e6069a",
   "metadata": {},
   "outputs": [
    {
     "name": "stdout",
     "output_type": "stream",
     "text": [
      "copy [3, 6, 8, 2, 9, 4, 3, 6, 1, 7]\n",
      "[3, 6, 8, 2, 9, 4, 3, 6, 1, 7]\n"
     ]
    }
   ],
   "source": [
    "#Ans:-\n",
    "list19 = [3,6,8,2,9,4,3,6,1,7]\n",
    "list18=list19.copy()\n",
    "list17 = list(list19)\n",
    "print(\"copy\",list18)\n",
    "print(list17)"
   ]
  },
  {
   "cell_type": "markdown",
   "id": "b0b14ece",
   "metadata": {},
   "source": [
    "Q 11.Write a Python Program to count occurences of an element in a list ?"
   ]
  },
  {
   "cell_type": "code",
   "execution_count": 25,
   "id": "408e1c86",
   "metadata": {},
   "outputs": [
    {
     "name": "stdout",
     "output_type": "stream",
     "text": [
      "0 : 1\n",
      "1 : 2\n",
      "2 : 2\n",
      "3 : 2\n",
      "4 : 1\n",
      "5 : 2\n",
      "6 : 2\n",
      "7 : 1\n",
      "8 : 1\n",
      "9 : 2\n"
     ]
    }
   ],
   "source": [
    "#Ans:-\n",
    "list20 = [2,6,9,1,3,8,5,6,4,3,5,7,9,0,2,1]\n",
    "unique = set(list20)\n",
    "for j in unique:\n",
    "    print(j,\":\",list20.count(j))\n",
    "        \n",
    "        "
   ]
  }
 ],
 "metadata": {
  "kernelspec": {
   "display_name": "Python 3 (ipykernel)",
   "language": "python",
   "name": "python3"
  },
  "language_info": {
   "codemirror_mode": {
    "name": "ipython",
    "version": 3
   },
   "file_extension": ".py",
   "mimetype": "text/x-python",
   "name": "python",
   "nbconvert_exporter": "python",
   "pygments_lexer": "ipython3",
   "version": "3.10.2"
  }
 },
 "nbformat": 4,
 "nbformat_minor": 5
}
