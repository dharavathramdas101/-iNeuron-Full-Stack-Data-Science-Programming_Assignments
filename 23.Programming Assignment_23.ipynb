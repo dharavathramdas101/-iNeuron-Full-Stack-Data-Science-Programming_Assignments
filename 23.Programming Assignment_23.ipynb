{
 "cells": [
  {
   "cell_type": "markdown",
   "id": "7fe6fbaf",
   "metadata": {},
   "source": [
    "# Programming Assignment_23"
   ]
  },
  {
   "cell_type": "markdown",
   "id": "7988f66f",
   "metadata": {},
   "source": [
    "Q1.Create a function that takes a number as an argument and returns True or False depending on whether the number is symmetrical or not. A number is symmetrical when it is the same as its reverse."
   ]
  },
  {
   "cell_type": "markdown",
   "id": "c38da100",
   "metadata": {},
   "source": [
    "Examples:\n",
    "is_symmetrical(7227) ➞ True\n",
    "is_symmetrical(12567) ➞ False\n",
    "is_symmetrical(44444444) ➞ True\n",
    "is_symmetrical(9939) ➞ False\n",
    "is_symmetrical(1112111) ➞ True"
   ]
  },
  {
   "cell_type": "code",
   "execution_count": 3,
   "id": "fd508273",
   "metadata": {},
   "outputs": [
    {
     "name": "stdout",
     "output_type": "stream",
     "text": [
      "7227 --> True\n",
      "12567 --> False\n",
      "44444444 --> True\n",
      "9939 --> False\n",
      "1112111 --> True\n"
     ]
    }
   ],
   "source": [
    "#Ans:-\n",
    "def is_symmetrical(num):\n",
    "    if str(num) == str(num)[::-1]:\n",
    "        print(num,'-->',True)\n",
    "    else:\n",
    "        print(num,'-->',False)\n",
    "is_symmetrical(7227) \n",
    "is_symmetrical(12567)\n",
    "is_symmetrical(44444444)\n",
    "is_symmetrical(9939)\n",
    "is_symmetrical(1112111)"
   ]
  },
  {
   "cell_type": "markdown",
   "id": "74837a63",
   "metadata": {},
   "source": [
    "Q2.Given a string of numbers separated by a comma and space, return the product of the numbers."
   ]
  },
  {
   "cell_type": "markdown",
   "id": "e3e61922",
   "metadata": {},
   "source": [
    "Examples:\n",
    "multiply_nums(\"2, 3\") ➞ 6\n",
    "multiply_nums(\"1, 2, 3, 4\") ➞ 24\n",
    "multiply_nums(\"54, 75, 453, 0\") ➞ 0\n",
    "multiply_nums(\"10, -2\") ➞ -20"
   ]
  },
  {
   "cell_type": "code",
   "execution_count": 12,
   "id": "ce14ed3d",
   "metadata": {},
   "outputs": [
    {
     "name": "stdout",
     "output_type": "stream",
     "text": [
      "2, 3 ---> 6\n",
      "1, 2, 3, 4 ---> 24\n",
      "54, 75, 453, 0 ---> 0\n",
      "10, -2 ---> -20\n"
     ]
    }
   ],
   "source": [
    "#Ans:-\n",
    "def multiply_nums(stri):\n",
    "    pro = 1\n",
    "    stri1=stri.replace(' ','').split(',')\n",
    "    for i in stri1:\n",
    "        pro = pro * int(i)\n",
    "    print(stri,'--->',pro)\n",
    "multiply_nums(\"2, 3\")\n",
    "multiply_nums(\"1, 2, 3, 4\")\n",
    "multiply_nums(\"54, 75, 453, 0\")\n",
    "multiply_nums(\"10, -2\")"
   ]
  },
  {
   "cell_type": "markdown",
   "id": "902ee37a",
   "metadata": {},
   "source": [
    "Q3.Create a function that squares every digit of a number."
   ]
  },
  {
   "cell_type": "markdown",
   "id": "e7d7962b",
   "metadata": {},
   "source": [
    "Examples:\n",
    "square_digits(9119) ➞ 811181\n",
    "square_digits(2483) ➞ 416649\n",
    "square_digits(3212) ➞ 9414\n",
    "\n",
    "Notes:\n",
    "The function receives an integer and must return an integer."
   ]
  },
  {
   "cell_type": "code",
   "execution_count": 24,
   "id": "5cd7eb7c",
   "metadata": {},
   "outputs": [
    {
     "name": "stdout",
     "output_type": "stream",
     "text": [
      "9119 --> 811181\n",
      "2483 --> 416649\n",
      "3212 --> 9414\n"
     ]
    }
   ],
   "source": [
    "#Ans:-\n",
    "def square_digits(num):\n",
    "    print(str(num),'-->',''.join([str(int(ele) **2) for ele in str(num)]))\n",
    "square_digits(9119)\n",
    "square_digits(2483)\n",
    "square_digits(3212)\n",
    "    "
   ]
  },
  {
   "cell_type": "markdown",
   "id": "d97ecf87",
   "metadata": {},
   "source": [
    "Q4.Create a function that sorts a list and removes all duplicate items from it."
   ]
  },
  {
   "cell_type": "markdown",
   "id": "20442cf9",
   "metadata": {},
   "source": [
    "Examples:\n",
    "setify([1, 3, 3, 5, 5]) ➞ [1, 3, 5]\n",
    "setify([4, 4, 4, 4]) ➞ [4]\n",
    "setify([5, 7, 8, 9, 10, 15]) ➞ [5, 7, 8, 9, 10, 15]\n",
    "setify([3, 3, 3, 2, 1]) ➞ [1, 2, 3]"
   ]
  },
  {
   "cell_type": "code",
   "execution_count": 26,
   "id": "43625036",
   "metadata": {},
   "outputs": [
    {
     "name": "stdout",
     "output_type": "stream",
     "text": [
      "[1, 3, 3, 5, 5] --> [1, 3, 5]\n",
      "[4, 4, 4, 4] --> [4]\n",
      "[5, 7, 8, 9, 10, 15] --> [5, 7, 8, 9, 10, 15]\n",
      "[3, 3, 3, 2, 1] --> [1, 2, 3]\n"
     ]
    }
   ],
   "source": [
    "#Ans:-\n",
    "def setify(list4):\n",
    "    print(list4,'-->',list((set(list4))))\n",
    "setify([1, 3, 3, 5, 5])\n",
    "setify([4, 4, 4, 4])\n",
    "setify([5, 7, 8, 9, 10, 15])\n",
    "setify([3, 3, 3, 2, 1])"
   ]
  },
  {
   "cell_type": "markdown",
   "id": "67a874b0",
   "metadata": {},
   "source": [
    "Q5.Create a function that returns the mean of all digits."
   ]
  },
  {
   "cell_type": "markdown",
   "id": "30636954",
   "metadata": {},
   "source": [
    "Examples:\n",
    "mean(42) ➞ 3\n",
    "mean(12345) ➞ 3\n",
    "mean(666) ➞ 6\n",
    "\n",
    "Notes:\n",
    "1.The mean of all digits is the sum of digits / how many digits there are (e.g. mean of digits in 512 is (5+1+2)/3(number of digits) = 8/3=2).\n",
    "2.The mean will always be an integer."
   ]
  },
  {
   "cell_type": "code",
   "execution_count": 29,
   "id": "78c9aaa0",
   "metadata": {},
   "outputs": [
    {
     "name": "stdout",
     "output_type": "stream",
     "text": [
      "42 --> 3\n",
      "12345 --> 3\n",
      "666 --> 6\n"
     ]
    }
   ],
   "source": [
    "#Ans:-\n",
    "def mean(num):\n",
    "    su = 0\n",
    "    for i in str(num):\n",
    "        su = su + int(i)\n",
    "    print(num,'-->',su//len(str(num)))\n",
    "mean(42)\n",
    "mean(12345)\n",
    "mean(666)"
   ]
  }
 ],
 "metadata": {
  "kernelspec": {
   "display_name": "Python 3 (ipykernel)",
   "language": "python",
   "name": "python3"
  },
  "language_info": {
   "codemirror_mode": {
    "name": "ipython",
    "version": 3
   },
   "file_extension": ".py",
   "mimetype": "text/x-python",
   "name": "python",
   "nbconvert_exporter": "python",
   "pygments_lexer": "ipython3",
   "version": "3.9.7"
  }
 },
 "nbformat": 4,
 "nbformat_minor": 5
}
