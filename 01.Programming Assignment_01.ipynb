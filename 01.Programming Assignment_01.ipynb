{
 "cells": [
  {
   "cell_type": "markdown",
   "id": "9f32119b",
   "metadata": {},
   "source": [
    "# Programming Assignment_01"
   ]
  },
  {
   "cell_type": "markdown",
   "id": "66812ea4",
   "metadata": {},
   "source": [
    "Q 1.Write a Python program to print 'Hello Python' ?"
   ]
  },
  {
   "cell_type": "code",
   "execution_count": 1,
   "id": "ac32a423",
   "metadata": {},
   "outputs": [
    {
     "name": "stdout",
     "output_type": "stream",
     "text": [
      "Hello Python\n"
     ]
    }
   ],
   "source": [
    "Ans:-\n",
    "print('Hello Python')"
   ]
  },
  {
   "cell_type": "markdown",
   "id": "8003d9e4",
   "metadata": {},
   "source": [
    "Q 2.Write a Python program to do arithmetic operations addition and division ?"
   ]
  },
  {
   "cell_type": "code",
   "execution_count": 4,
   "id": "ba3c3394",
   "metadata": {},
   "outputs": [
    {
     "name": "stdout",
     "output_type": "stream",
     "text": [
      "enter the + or / :-/\n",
      "5.0\n"
     ]
    }
   ],
   "source": [
    "Ans:-\n",
    "a = 10\n",
    "b = 2\n",
    "input1=input(\"enter the + or / :-\")\n",
    "if input1==\"+\" :\n",
    "    print(a+b)\n",
    "elif input1 == \"/\":\n",
    "    print(a/b)\n",
    "else:\n",
    "    print(\"please enter the correct input\")"
   ]
  },
  {
   "cell_type": "markdown",
   "id": "8178d548",
   "metadata": {},
   "source": [
    "Q 3.Write a Python program to find the area of a triangle ?"
   ]
  },
  {
   "cell_type": "code",
   "execution_count": 5,
   "id": "bc815830",
   "metadata": {},
   "outputs": [
    {
     "name": "stdout",
     "output_type": "stream",
     "text": [
      "enter height of triangle :100\n",
      "enter base of triangle50\n",
      "area of triangle :- 2500.0\n"
     ]
    }
   ],
   "source": [
    "Ans:-\n",
    "height=int(input('enter height of triangle :'))\n",
    "base = int(input('enter base of triangle'))\n",
    "area = height * base/2\n",
    "print(\"area of triangle :-\", area)"
   ]
  },
  {
   "cell_type": "markdown",
   "id": "368bd0ec",
   "metadata": {},
   "source": [
    "Q 4.Write a Python program to swap two variables ?"
   ]
  },
  {
   "cell_type": "code",
   "execution_count": 7,
   "id": "035dd93b",
   "metadata": {},
   "outputs": [
    {
     "name": "stdout",
     "output_type": "stream",
     "text": [
      "enter the first_number100\n",
      "enter the second_number200\n",
      "before swap 100 200\n",
      "after swap 200 100\n"
     ]
    }
   ],
   "source": [
    "Ans:-\n",
    "first_number = int(input('enter the first_number'))\n",
    "second_number = int(input('enter the second_number'))\n",
    "print('before swap',first_number,second_number)\n",
    "\n",
    "first_number, second_number = second_number ,first_number\n",
    "print('after swap',first_number,second_number)"
   ]
  },
  {
   "cell_type": "markdown",
   "id": "aa61b154",
   "metadata": {},
   "source": [
    "Q 5.Write a Python program to generate a random number ?"
   ]
  },
  {
   "cell_type": "code",
   "execution_count": 8,
   "id": "fef9e6bd",
   "metadata": {},
   "outputs": [],
   "source": [
    "Ans:-\n",
    "from random import randint"
   ]
  },
  {
   "cell_type": "code",
   "execution_count": 10,
   "id": "d70a7dde",
   "metadata": {},
   "outputs": [
    {
     "name": "stdout",
     "output_type": "stream",
     "text": [
      "26\n"
     ]
    }
   ],
   "source": [
    "print(randint(0,100))"
   ]
  },
  {
   "cell_type": "code",
   "execution_count": null,
   "id": "a900f2ad",
   "metadata": {},
   "outputs": [],
   "source": []
  }
 ],
 "metadata": {
  "kernelspec": {
   "display_name": "Python 3 (ipykernel)",
   "language": "python",
   "name": "python3"
  },
  "language_info": {
   "codemirror_mode": {
    "name": "ipython",
    "version": 3
   },
   "file_extension": ".py",
   "mimetype": "text/x-python",
   "name": "python",
   "nbconvert_exporter": "python",
   "pygments_lexer": "ipython3",
   "version": "3.9.7"
  }
 },
 "nbformat": 4,
 "nbformat_minor": 5
}
