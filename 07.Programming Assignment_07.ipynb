{
 "cells": [
  {
   "cell_type": "markdown",
   "id": "1273624a",
   "metadata": {},
   "source": [
    "# Programming Assignment_07"
   ]
  },
  {
   "cell_type": "markdown",
   "id": "7b6ed56e",
   "metadata": {},
   "source": [
    "Q 1. Write a Python Program to find sum of array"
   ]
  },
  {
   "cell_type": "code",
   "execution_count": 1,
   "id": "c23f6f8c",
   "metadata": {},
   "outputs": [],
   "source": [
    "import numpy as np"
   ]
  },
  {
   "cell_type": "code",
   "execution_count": 54,
   "id": "76b50fd5",
   "metadata": {},
   "outputs": [
    {
     "data": {
      "text/plain": [
       "36"
      ]
     },
     "execution_count": 54,
     "metadata": {},
     "output_type": "execute_result"
    }
   ],
   "source": [
    "#Ans:-\n",
    "def sum_array():\n",
    "    a = [1,2,3,4,5,6,7,8]\n",
    "    arr = np.array(a)\n",
    "    return arr.sum()\n",
    "sum_array()"
   ]
  },
  {
   "cell_type": "markdown",
   "id": "1c9fc854",
   "metadata": {},
   "source": [
    "Q 2. Write a Python Program to find largest element in an array?"
   ]
  },
  {
   "cell_type": "code",
   "execution_count": 55,
   "id": "0738dc7b",
   "metadata": {},
   "outputs": [
    {
     "data": {
      "text/plain": [
       "9"
      ]
     },
     "execution_count": 55,
     "metadata": {},
     "output_type": "execute_result"
    }
   ],
   "source": [
    "#Ans:-\n",
    "def largest_array():\n",
    "    b = [4,6,8,2,9,3,4,5,1]\n",
    "    arr1 = np.array(b)\n",
    "    max2 = arr1[0]\n",
    "    for i in arr1:\n",
    "        if i > max2:\n",
    "            max2 = i\n",
    "    return max2\n",
    "largest_array()\n"
   ]
  },
  {
   "cell_type": "markdown",
   "id": "3a2a8326",
   "metadata": {},
   "source": [
    "Q 3. Write a Python Program for array rotation ?"
   ]
  },
  {
   "cell_type": "code",
   "execution_count": 56,
   "id": "5968dc03",
   "metadata": {},
   "outputs": [
    {
     "data": {
      "text/plain": [
       "array([4, 6, 8, 2, 9, 3, 4, 5, 1])"
      ]
     },
     "execution_count": 56,
     "metadata": {},
     "output_type": "execute_result"
    }
   ],
   "source": [
    "#Ans:-\n",
    "arr1"
   ]
  },
  {
   "cell_type": "code",
   "execution_count": 57,
   "id": "56620268",
   "metadata": {},
   "outputs": [
    {
     "data": {
      "text/plain": [
       "array([1, 5, 4, 3, 9, 2, 8, 6, 4])"
      ]
     },
     "execution_count": 57,
     "metadata": {},
     "output_type": "execute_result"
    }
   ],
   "source": [
    "arr1[::-1]"
   ]
  },
  {
   "cell_type": "markdown",
   "id": "2ce17f90",
   "metadata": {},
   "source": [
    "Q 4. Write a Python Program to Split the array and add the first part to the end ?"
   ]
  },
  {
   "cell_type": "code",
   "execution_count": 58,
   "id": "9ff838ac",
   "metadata": {},
   "outputs": [
    {
     "data": {
      "text/plain": [
       "array([2, 5, 7, 8, 3, 4, 5, 9, 1])"
      ]
     },
     "execution_count": 58,
     "metadata": {},
     "output_type": "execute_result"
    }
   ],
   "source": [
    "#Ans:-\n",
    "arr2 = np.array([2,5,7,8,3,4,5,9,1])\n",
    "arr2"
   ]
  },
  {
   "cell_type": "code",
   "execution_count": 59,
   "id": "c98b85af",
   "metadata": {},
   "outputs": [
    {
     "name": "stdout",
     "output_type": "stream",
     "text": [
      "add the first and last part 2 & 1 is : 3\n"
     ]
    }
   ],
   "source": [
    "add_last_first = arr2[0]+arr2[-1]\n",
    "print(\"add the first and last part {} & {} is :\".format(arr2[0],arr2[-1]),add_last_first)"
   ]
  },
  {
   "cell_type": "markdown",
   "id": "78718178",
   "metadata": {},
   "source": [
    "Q 5. Write a Python Program to check if given array is Monotonic ?"
   ]
  },
  {
   "cell_type": "code",
   "execution_count": 67,
   "id": "918de8b6",
   "metadata": {},
   "outputs": [
    {
     "name": "stdout",
     "output_type": "stream",
     "text": [
      "true\n",
      "flase\n"
     ]
    }
   ],
   "source": [
    "#Ans:-\n",
    "def monotonic(a):\n",
    "    global n\n",
    "    n = len(a)\n",
    "    if n ==1:\n",
    "        print(True)\n",
    "    else:\n",
    "        if all(a[i] <= a[i+1] for i in range(0,n-1) or a[i] >= a[i+1]for i in range(0,n-1)):\n",
    "            print(\"true\")\n",
    "        else:\n",
    "            print(\"flase\")\n",
    "monotonic([1,3,6]) \n",
    "monotonic([5,4,8])"
   ]
  },
  {
   "cell_type": "code",
   "execution_count": null,
   "id": "7ae71ccc",
   "metadata": {},
   "outputs": [],
   "source": []
  }
 ],
 "metadata": {
  "kernelspec": {
   "display_name": "Python 3 (ipykernel)",
   "language": "python",
   "name": "python3"
  },
  "language_info": {
   "codemirror_mode": {
    "name": "ipython",
    "version": 3
   },
   "file_extension": ".py",
   "mimetype": "text/x-python",
   "name": "python",
   "nbconvert_exporter": "python",
   "pygments_lexer": "ipython3",
   "version": "3.10.2"
  }
 },
 "nbformat": 4,
 "nbformat_minor": 5
}
