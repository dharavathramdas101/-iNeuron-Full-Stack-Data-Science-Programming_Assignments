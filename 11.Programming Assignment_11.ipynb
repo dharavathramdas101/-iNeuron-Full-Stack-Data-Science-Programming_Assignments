{
 "cells": [
  {
   "cell_type": "markdown",
   "id": "708996e0",
   "metadata": {},
   "source": [
    "# Programming Assignment_11"
   ]
  },
  {
   "cell_type": "markdown",
   "id": "929ec441",
   "metadata": {},
   "source": [
    "Q 1. Write a Python program to find words which are greater than given length k ?"
   ]
  },
  {
   "cell_type": "code",
   "execution_count": 13,
   "id": "ef755e76",
   "metadata": {},
   "outputs": [],
   "source": [
    "#Ans:-\n",
    "str1 = \"Vivekananda was born Narendranath Datta shortened to Narendra or Naren in a Bengali family at his ancestral home at 3 Gourmohan Mukherjee Street in Calcutta, the capital\""
   ]
  },
  {
   "cell_type": "code",
   "execution_count": 14,
   "id": "10a20d07",
   "metadata": {},
   "outputs": [
    {
     "name": "stdout",
     "output_type": "stream",
     "text": [
      "enter the lenght :8\n",
      "Vivekananda,Narendranath,shortened,ancestral,Gourmohan,Mukherjee,Calcutta,,"
     ]
    }
   ],
   "source": [
    "list11 = str1.split()\n",
    "k = int(input(\"enter the lenght :\"))\n",
    "for i in list11 :\n",
    "    if k < len(i):\n",
    "        print(i,end= \",\")"
   ]
  },
  {
   "cell_type": "markdown",
   "id": "dc5b4fbb",
   "metadata": {},
   "source": [
    "Q 2. Write a Python program for removing i-th character from a string ?"
   ]
  },
  {
   "cell_type": "code",
   "execution_count": 20,
   "id": "2a49389d",
   "metadata": {},
   "outputs": [
    {
     "name": "stdout",
     "output_type": "stream",
     "text": [
      "6\n",
      "after removing ith char : ramdaineuron\n"
     ]
    }
   ],
   "source": [
    "#Ans:-\n",
    "i = int(input())\n",
    "str = \"ramdasineuron\"\n",
    "str1 = str[:i-1]+str[i:]\n",
    "print(\"after removing ith char :\",str1)"
   ]
  },
  {
   "cell_type": "markdown",
   "id": "67ab745b",
   "metadata": {},
   "source": [
    "Q 3. Write a Python program to split and join a string ?"
   ]
  },
  {
   "cell_type": "code",
   "execution_count": 19,
   "id": "cb13714c",
   "metadata": {},
   "outputs": [
    {
     "name": "stdout",
     "output_type": "stream",
     "text": [
      "['ineuron', 'full', 'stack', 'data', 'science', 'course']\n",
      "\n",
      "ineuron full stack data science course\n"
     ]
    }
   ],
   "source": [
    "#Ans:-\n",
    "str3 = \"ineuron full stack data science course\"\n",
    "str4 = str3.split()\n",
    "print(str4)\n",
    "print()\n",
    "str5 = ' '.join(str4)\n",
    "print(str5)"
   ]
  },
  {
   "cell_type": "markdown",
   "id": "8d477e45",
   "metadata": {},
   "source": [
    "Q 4. Write a Python to check if a given string is binary string or not ?"
   ]
  },
  {
   "cell_type": "code",
   "execution_count": 22,
   "id": "81ee26ef",
   "metadata": {},
   "outputs": [
    {
     "name": "stdout",
     "output_type": "stream",
     "text": [
      "enter :11\n",
      "binary string\n"
     ]
    }
   ],
   "source": [
    "#Ans:-\n",
    "string3 = input(\"enter :\")\n",
    "set_s = set(string3)\n",
    "binary = {'0',\"1\"}\n",
    "if (set_s == binary or set_s == {'1'} or set_s == {'0'}):\n",
    "    print(\"binary string\")\n",
    "else:\n",
    "    print(\"not binary string\")"
   ]
  },
  {
   "cell_type": "markdown",
   "id": "73749c2b",
   "metadata": {},
   "source": [
    "Q 5. Write a Python program to find uncommon words from two Strings ?"
   ]
  },
  {
   "cell_type": "code",
   "execution_count": 9,
   "id": "2d72bcd1",
   "metadata": {},
   "outputs": [
    {
     "name": "stdout",
     "output_type": "stream",
     "text": [
      "ineuron data\n",
      "full stack\n",
      "i,n,e,r,o,n,d,"
     ]
    }
   ],
   "source": [
    "#Ans:-\n",
    "string1 = input()\n",
    "string2 = input()\n",
    "for i in string1:\n",
    "    if i not in string2:\n",
    "        print(i,end = \",\")"
   ]
  },
  {
   "cell_type": "markdown",
   "id": "805491b3",
   "metadata": {},
   "source": [
    "Q 6. Write a Python to find all duplicate characters in string ?"
   ]
  },
  {
   "cell_type": "code",
   "execution_count": 11,
   "id": "c6a13684",
   "metadata": {},
   "outputs": [
    {
     "name": "stdout",
     "output_type": "stream",
     "text": [
      "enter the string :ineuron full stack data science ineuron\n",
      " ,u,s,r,c,t,a,i,e,l,n,o,"
     ]
    }
   ],
   "source": [
    "#Ans:-\n",
    "str22 = input(\"enter the string :\")\n",
    "set_s = set(str22)\n",
    "for i in set_s:\n",
    "    if str22.count(i) > 1:\n",
    "        print(i,end = \",\")\n",
    "    "
   ]
  },
  {
   "cell_type": "markdown",
   "id": "b7548e20",
   "metadata": {},
   "source": [
    "Q 7. Write a Python Program to check if a string contains any special character?"
   ]
  },
  {
   "cell_type": "code",
   "execution_count": 4,
   "id": "3daa01d0",
   "metadata": {},
   "outputs": [
    {
     "name": "stdout",
     "output_type": "stream",
     "text": [
      "enter the string :ineuron@!ineuron$%full\n",
      "@,!,$,%,"
     ]
    }
   ],
   "source": [
    "#Ans:-\n",
    "speci = \"!@#$%^&*(){?}~?:]<>_[\"\n",
    "string = input(\"enter the string :\")\n",
    "for i in string:\n",
    "    for j in speci :\n",
    "        if i == j:\n",
    "            print(i,end = \",\")"
   ]
  },
  {
   "cell_type": "code",
   "execution_count": null,
   "id": "2474e492",
   "metadata": {},
   "outputs": [],
   "source": []
  }
 ],
 "metadata": {
  "kernelspec": {
   "display_name": "Python 3 (ipykernel)",
   "language": "python",
   "name": "python3"
  },
  "language_info": {
   "codemirror_mode": {
    "name": "ipython",
    "version": 3
   },
   "file_extension": ".py",
   "mimetype": "text/x-python",
   "name": "python",
   "nbconvert_exporter": "python",
   "pygments_lexer": "ipython3",
   "version": "3.9.7"
  }
 },
 "nbformat": 4,
 "nbformat_minor": 5
}
