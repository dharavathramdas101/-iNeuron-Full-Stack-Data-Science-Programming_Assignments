{
 "cells": [
  {
   "cell_type": "markdown",
   "id": "8fce7c08",
   "metadata": {},
   "source": [
    "# Programming Assignment_15"
   ]
  },
  {
   "cell_type": "markdown",
   "id": "d89f09f7",
   "metadata": {},
   "source": [
    "Q 1. Please write a program using generator to print the numbers which can be divisible by 5 and 7 between 0 and n in comma separated form while n is input by console ?"
   ]
  },
  {
   "cell_type": "code",
   "execution_count": 4,
   "id": "b0163edf",
   "metadata": {},
   "outputs": [
    {
     "name": "stdout",
     "output_type": "stream",
     "text": [
      "200\n",
      "0,35,70,105,140,175,"
     ]
    }
   ],
   "source": [
    "#Ans:-\n",
    "def divisible(n):\n",
    "    for num in range(n):\n",
    "        if num%5 == 0 and num% 7 == 0:\n",
    "            yield num\n",
    "for i in divisible(int(input())):\n",
    "    print(i,end = \",\")"
   ]
  },
  {
   "cell_type": "markdown",
   "id": "8d8b92b0",
   "metadata": {},
   "source": [
    "Q 2.Please write a program using generator to print the even numbers between 0 and n in comma separated form while n is input by console ?\n",
    "Example:\n",
    "If the following n is given as input to the program: 10\n",
    "Then, the output of the program should be: 0,2,4,6,8,10"
   ]
  },
  {
   "cell_type": "code",
   "execution_count": 8,
   "id": "e39ab0ca",
   "metadata": {},
   "outputs": [
    {
     "name": "stdout",
     "output_type": "stream",
     "text": [
      "10\n",
      "0,2,4,6,8,10,"
     ]
    }
   ],
   "source": [
    "#Ans:-\n",
    "def even(n):\n",
    "    for i in range(n+1):\n",
    "        if i%2 ==0:\n",
    "            yield i\n",
    "for j in even(int(input())):\n",
    "    print(j,end = ',')"
   ]
  },
  {
   "cell_type": "markdown",
   "id": "8faef706",
   "metadata": {},
   "source": [
    "Q 3.The Fibonacci Sequence is computed based on the following formula below, Please write a program using list comprehension to print the Fibonacci Sequence in comma separated form with a given n input by console ?\n",
    "f(n)=0 if n=0\n",
    "f(n)=1 if n=1\n",
    "f(n)=f(n-1)+f(n-2) if n>1"
   ]
  },
  {
   "cell_type": "code",
   "execution_count": 24,
   "id": "fd528fbd",
   "metadata": {},
   "outputs": [
    {
     "name": "stdout",
     "output_type": "stream",
     "text": [
      "20\n",
      "[0, 1, 1, 2, 3, 5, 8, 13, 21, 34, 55, 89, 144, 233, 377, 610, 987, 1597, 2584, 4181]\n"
     ]
    }
   ],
   "source": [
    "#Ans:-\n",
    "num = int(input())\n",
    "fibonacci_list = [0,1]\n",
    "[fibonacci_list.append(fibonacci_list[i-1]+fibonacci_list[i-2]) for i in range(2,num)]\n",
    "\n",
    "if num <= 0:\n",
    "    print(0)\n",
    "elif num == 1:\n",
    "    fibonacci_list = [fibonacci_list[0]]\n",
    "    print(fibonacci_list)\n",
    "else:\n",
    "    print(fibonacci_list)"
   ]
  },
  {
   "cell_type": "markdown",
   "id": "1f017cae",
   "metadata": {},
   "source": [
    "Q 4.Assuming that we have some email addresses in the \"username@companyname.com\" format, please write program to print the user name of a given email address. Both user names and company names are composed of letters only ?\n",
    "\n",
    "Example:\n",
    "If the following email address is given as input to the program: john@google.com\n",
    "Then, the output of the program should be: john"
   ]
  },
  {
   "cell_type": "code",
   "execution_count": 37,
   "id": "592cf3f4",
   "metadata": {},
   "outputs": [
    {
     "name": "stdout",
     "output_type": "stream",
     "text": [
      "dram@gmail.com\n",
      "user name of dram@gmail.com   is: dram\n",
      "john@gmail.com\n",
      "user name of john@gmail.com   is: john\n"
     ]
    }
   ],
   "source": [
    "#Ans:-\n",
    "def getusername(email):\n",
    "\n",
    "    index = email.index('@')\n",
    "    print(\"user name of {} \".format(email),\" is:\",email[:index])\n",
    "getusername(input())\n",
    "getusername(input())"
   ]
  },
  {
   "cell_type": "markdown",
   "id": "382d9460",
   "metadata": {},
   "source": [
    "Q5.Define a class named Shape and its subclass Square. The Square class has an init function which takes a length as argument. Both classes have a area function which can print the area of the shape where Shape's area is 0 by default."
   ]
  },
  {
   "cell_type": "code",
   "execution_count": 42,
   "id": "331c416b",
   "metadata": {},
   "outputs": [
    {
     "name": "stdout",
     "output_type": "stream",
     "text": [
      "2500\n"
     ]
    }
   ],
   "source": [
    "#Ans:-\n",
    "class shape:\n",
    "    def area(self):\n",
    "        return 0\n",
    "    \n",
    "class square:\n",
    "    def __init__(self,length):\n",
    "        self.length = length\n",
    "    def area(self):\n",
    "        return self.length*self.length\n",
    "sha_obj = shape\n",
    "squ_obj = square(50)\n",
    "print(squ_obj.area())\n",
    "\n",
    "        "
   ]
  },
  {
   "cell_type": "code",
   "execution_count": null,
   "id": "f3bc673d",
   "metadata": {},
   "outputs": [],
   "source": []
  }
 ],
 "metadata": {
  "kernelspec": {
   "display_name": "Python 3 (ipykernel)",
   "language": "python",
   "name": "python3"
  },
  "language_info": {
   "codemirror_mode": {
    "name": "ipython",
    "version": 3
   },
   "file_extension": ".py",
   "mimetype": "text/x-python",
   "name": "python",
   "nbconvert_exporter": "python",
   "pygments_lexer": "ipython3",
   "version": "3.9.7"
  }
 },
 "nbformat": 4,
 "nbformat_minor": 5
}
